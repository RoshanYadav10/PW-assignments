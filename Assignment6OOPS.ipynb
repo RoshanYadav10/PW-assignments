{
 "cells": [
  {
   "cell_type": "code",
   "execution_count": 2,
   "id": "c0b97ec5-55ab-4a81-b46c-e3b791fe6af1",
   "metadata": {},
   "outputs": [
    {
     "data": {
      "text/plain": [
       "(2.5, 8, 100)"
      ]
     },
     "execution_count": 2,
     "metadata": {},
     "output_type": "execute_result"
    }
   ],
   "source": [
    "# Q1.EXPLAIN CLASS AND OBJECT TO OBJECT ORIENTED PORGRAMMING.GIVE A SUITABLE EXAMPLE?\n",
    "# ANS:-Class is referred to as real world entity and object is instance of that class.\n",
    "# Example:-Lets assume car is a class but every car has it own properties that become object or member of that class.\n",
    "# Syntax:-\n",
    "class car:\n",
    "    def property(self,length,height,max_speed):\n",
    "        self.length=length\n",
    "        self.height=height\n",
    "        self.max_speed=max_speed\n",
    "    def show(self):\n",
    "        return self.length,self.height,self.max_speed\n",
    "alto=car()\n",
    "alto.property(2.5,8,100)\n",
    "alto.show()\n"
   ]
  },
  {
   "cell_type": "code",
   "execution_count": 3,
   "id": "ef2fb20f-3b87-418e-a2b4-faa5f56aa310",
   "metadata": {},
   "outputs": [],
   "source": [
    "# Q2.NAME THE FOUR PILLAR OF OOPS?\n",
    "# ANS:-1]Inheritance 2]Polymorphism 3]Encapsulation 4]Abstraction\n"
   ]
  },
  {
   "cell_type": "code",
   "execution_count": 4,
   "id": "ad79bb5a-95c9-42b0-8200-d64b4afe1c1e",
   "metadata": {},
   "outputs": [
    {
     "name": "stdout",
     "output_type": "stream",
     "text": [
      "John\n",
      "36\n"
     ]
    }
   ],
   "source": [
    "# Q3] EXPLAIN WHY THE __INIT__() FUNCTION IS USED. GIVE A SUITABLE EXAMPLE.\n",
    "# ANS:- The __init__() function is called automatically every time the class is being used to create a new object i.e constructor.\n",
    "# Example:-\n",
    "class Person:\n",
    "  def __init__(self, name, age):\n",
    "    self.name = name\n",
    "    self.age = age\n",
    "\n",
    "p1 = Person(\"John\", 36)\n",
    "\n",
    "print(p1.name)\n",
    "print(p1.age)\n"
   ]
  },
  {
   "cell_type": "code",
   "execution_count": 5,
   "id": "fa57962c-92ea-4020-9433-e4036f4bb7cd",
   "metadata": {},
   "outputs": [],
   "source": [
    "# Q4]WHY SELF IS USED IN OOPS?\n",
    "# ANS:- The self is used as a reference of current instance of class i.e. object.\n"
   ]
  },
  {
   "cell_type": "code",
   "execution_count": null,
   "id": "96d34dfd-eba4-44ba-88a3-7079b3eb2c3f",
   "metadata": {},
   "outputs": [],
   "source": [
    "# Q5]WHAT IS INHERITANCE GIVE EXAMPLE FOR EACH TYPE?\n",
    "# ANS:-Inheritance is a process in which child class acquires all the property of parent class. There are five type of inheritance in python :-\n",
    "# 1]Single inheritance-Single inheritance enables a derived class to inherit properties from a single parent class.\n",
    "# 2]Multiple inheritance-When a class can be derived from more than one base class this type of inheritance is called multiple inheritances.\n",
    "# 3]Multilevel inheritance-In multilevel inheritance, features of the base class and the derived class are further inherited into the new derived class.\n",
    "# 4]Hierarchical inheritance-Single parent class and multiple child class.\n",
    "# 5]Hybrid inheritance-When two or more inheritance takes place simultaneously.\n"
   ]
  }
 ],
 "metadata": {
  "kernelspec": {
   "display_name": "Python 3 (ipykernel)",
   "language": "python",
   "name": "python3"
  },
  "language_info": {
   "codemirror_mode": {
    "name": "ipython",
    "version": 3
   },
   "file_extension": ".py",
   "mimetype": "text/x-python",
   "name": "python",
   "nbconvert_exporter": "python",
   "pygments_lexer": "ipython3",
   "version": "3.11.1"
  }
 },
 "nbformat": 4,
 "nbformat_minor": 5
}
