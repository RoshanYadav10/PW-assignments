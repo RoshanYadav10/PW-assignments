{
 "cells": [
  {
   "cell_type": "code",
   "execution_count": 16,
   "id": "324bb3e1-612a-461c-bf07-cfc5b277cdb6",
   "metadata": {},
   "outputs": [
    {
     "data": {
      "text/plain": [
       "[('Virat Kohli', 24936),\n",
       " ('Jack Kallis', 25534),\n",
       " ('Ricky Ponting', 27483),\n",
       " ('Sachin Tendulkar', 34357)]"
      ]
     },
     "execution_count": 16,
     "metadata": {},
     "output_type": "execute_result"
    }
   ],
   "source": [
    "#Q1]Create a python program to sort the given list of tuples based on integer value using a\n",
    "#lambda function.[('Sachin Tendulkar', 34357), ('Ricky Ponting', 27483), ('Jack Kallis', 25534), ('Virat Kohli', 24936)]\n",
    "#Ans:-\n",
    "a=[('Sachin Tendulkar', 34357), ('Ricky Ponting', 27483), ('Jack Kallis', 25534), ('Virat Kohli', 24936)]\n",
    "a.sort(key= lambda x:x[1])\n",
    "a"
   ]
  },
  {
   "cell_type": "code",
   "execution_count": 21,
   "id": "1b9f27ef-3c71-422b-a9fd-7b30c49b516c",
   "metadata": {},
   "outputs": [
    {
     "data": {
      "text/plain": [
       "[1, 4, 9, 16, 25, 36, 49, 64, 81, 100]"
      ]
     },
     "execution_count": 21,
     "metadata": {},
     "output_type": "execute_result"
    }
   ],
   "source": [
    "# Q2. Write a Python Program to find the squares of all the numbers in the given list of integers using\n",
    "# lambda and map functions.\n",
    "# [1, 2, 3, 4, 5, 6, 7, 8, 9, 10]\n",
    "#Ans:-\n",
    "number=[1, 2, 3, 4, 5, 6, 7, 8, 9, 10]\n",
    "result=map(lambda x:x**2,number)\n",
    "list(result)"
   ]
  },
  {
   "cell_type": "code",
   "execution_count": 30,
   "id": "3687384a-689e-4fa9-ad46-f60fb394b7ae",
   "metadata": {},
   "outputs": [
    {
     "data": {
      "text/plain": [
       "['1', '2', '3', '4', '5', '6', '7', '8', '9', '10']"
      ]
     },
     "execution_count": 30,
     "metadata": {},
     "output_type": "execute_result"
    }
   ],
   "source": [
    "#Q3]Write a python program to convert the given list of integers into a tuple of strings. Use map and\n",
    "#lambda functions\n",
    "#Ans:-\n",
    "num=[1, 2, 3, 4, 5, 6, 7, 8, 9, 10]\n",
    "ans=map(lambda x:str(x),num)\n",
    "list(ans)"
   ]
  },
  {
   "cell_type": "code",
   "execution_count": 29,
   "id": "059739d9-93bf-47d0-a8d2-be1b5a6c8a1d",
   "metadata": {},
   "outputs": [
    {
     "name": "stdout",
     "output_type": "stream",
     "text": [
      "15511210043330985984000000\n"
     ]
    }
   ],
   "source": [
    "#Q4]Write a python program using reduce function to compute the product of a list containing numbers\n",
    "#from 1 to 25.\n",
    "#Ans:-\n",
    "s=[]\n",
    "for i in range(1,26):\n",
    "    s.append(i)\n",
    "import functools\n",
    "print(functools.reduce(lambda a,b:a*b,s))"
   ]
  },
  {
   "cell_type": "code",
   "execution_count": 34,
   "id": "5d727d3f-1453-4a97-9779-c191f45a7e1d",
   "metadata": {},
   "outputs": [
    {
     "data": {
      "text/plain": [
       "[2, 3, 6, 9, 27, 60, 90, 120, 46]"
      ]
     },
     "execution_count": 34,
     "metadata": {},
     "output_type": "execute_result"
    }
   ],
   "source": [
    "# Q5]Write a python program to filter the numbers in a given list that are divisible by 2 and 3 using the\n",
    "# filter function.\n",
    "# [2, 3, 6, 9, 27, 60, 90, 120, 55, 46]\n",
    "#Ans:-\n",
    "l=[2, 3, 6, 9, 27, 60, 90, 120, 55, 46]\n",
    "ans=filter(lambda a:a if a%2==0 or a%3==0 else None,l)\n",
    "list(ans)"
   ]
  },
  {
   "cell_type": "code",
   "execution_count": 37,
   "id": "e1b3cd09-c430-4d1c-aeff-fb6dc4be7925",
   "metadata": {},
   "outputs": [
    {
     "data": {
      "text/plain": [
       "['php', 'aba', 'radar', 'level']"
      ]
     },
     "execution_count": 37,
     "metadata": {},
     "output_type": "execute_result"
    }
   ],
   "source": [
    "# Q6]Write a python program to find palindromes in the given list of strings using lambda and filter\n",
    "# function.\n",
    "# Ans:-\n",
    "coll=['python', 'php', 'aba', 'radar', 'level']\n",
    "ans=filter(lambda a:a if a==a[::-1] else None ,coll)\n",
    "list(ans)"
   ]
  },
  {
   "cell_type": "code",
   "execution_count": null,
   "id": "a593b764-33b7-49f5-a95f-d2c6501b579c",
   "metadata": {},
   "outputs": [],
   "source": []
  }
 ],
 "metadata": {
  "kernelspec": {
   "display_name": "Python 3 (ipykernel)",
   "language": "python",
   "name": "python3"
  },
  "language_info": {
   "codemirror_mode": {
    "name": "ipython",
    "version": 3
   },
   "file_extension": ".py",
   "mimetype": "text/x-python",
   "name": "python",
   "nbconvert_exporter": "python",
   "pygments_lexer": "ipython3",
   "version": "3.11.1"
  }
 },
 "nbformat": 4,
 "nbformat_minor": 5
}
