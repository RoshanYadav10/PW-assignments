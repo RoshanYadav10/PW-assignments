{
 "cells": [
  {
   "cell_type": "code",
   "execution_count": null,
   "metadata": {},
   "outputs": [],
   "source": [
    "# Q1. Explain GET and POST methods.\n",
    "# GET Method:\n",
    "# The GET method is used to retrieve or request data from a specified resource. When a client sends a GET request to a server, it asks the server to send back a representation of the specified resource.\n",
    "# GET requests typically have parameters appended to the URL as query parameters. For example, in the URL \"https://example.com/search?q=keyword\", the \"q=keyword\" is a query parameter where \"q\" is the parameter name and \"keyword\" is the parameter value.\n",
    "# POST Method:\n",
    "# The POST method is used to submit or send data to be processed by the specified resource. When a client sends a POST request to a server, it includes the data in the body of the request.\n",
    "# POST requests are commonly used when submitting forms on websites, making API calls, or sending data to be stored on the server. The data sent with a POST request is typically used to create, update, or modify resources on the server."
   ]
  },
  {
   "cell_type": "code",
   "execution_count": null,
   "metadata": {},
   "outputs": [],
   "source": [
    "# Q2. Why is request used in Flask?\n",
    "# In Flask, the request object is used to access incoming HTTP request data from a client. It provides access to various attributes and methods that allow you to interact with the data sent by the client, such as form data, query parameters, headers, cookies, and more. The request object is an instance of the Request class provided by Flask.\n",
    "# Here are a few reasons why the request object is used in Flask:\n",
    "# Accessing Form Data: When a client submits a form on a web page, the form data is sent in the body of the HTTP request. \n",
    "# Retrieving Query Parameters: Query parameters are key-value pairs appended to the URL of a request, typically seen in GET requests.\n",
    "# Handling File Uploads: If your Flask application supports file uploads, the request object provides access to the uploaded files."
   ]
  },
  {
   "cell_type": "code",
   "execution_count": null,
   "metadata": {},
   "outputs": [],
   "source": [
    "# Q3. Why is redirect() used in Flask?\n",
    "# In Flask, the redirect() function is used to redirect the client's browser to a different URL. It is a convenient way to guide the user to a different page or route within your Flask application or even to an external URL. The redirect() function is typically used in response to a user's action or as a result of some processing logic."
   ]
  },
  {
   "cell_type": "code",
   "execution_count": null,
   "metadata": {},
   "outputs": [],
   "source": [
    "# Q4. What are templates in Flask? Why is the render_template() function used?\n",
    "# In Flask, templates are files that contain HTML markup with placeholders for dynamic content. They allow you to separate the presentation logic from the application logic. Templates provide a way to generate dynamic web pages by combining static HTML code with data provided by the Flask application.\n",
    "# The render_template() function is used to render a template in Flask. It takes the name of the template file as an argument, along with optional additional parameters. The render_template() function searches for the specified template file in the configured template directory and renders it by replacing the placeholders with the provided data."
   ]
  },
  {
   "cell_type": "code",
   "execution_count": 1,
   "metadata": {},
   "outputs": [],
   "source": [
    "# Q5. Create a simple API. Use Postman to test it. Attach the screenshot of the output in the Jupyter Notebook.\n",
    "from flask import Flask, jsonify\n",
    "\n",
    "app = Flask(__name__)\n",
    "\n",
    "@app.route('/api/hello', methods=['GET'])\n",
    "def hello_api():\n",
    "    message = {'message': 'Hello, world!'}\n",
    "    return jsonify(message)\n",
    "\n",
    "if __name__ == '__main__':\n",
    "    app.run()\n",
    "\n"
   ]
  },
  {
   "attachments": {},
   "cell_type": "markdown",
   "metadata": {},
   "source": [
    "<img src=\"Output.png\" height=\"500\" width=\"500\"></img>"
   ]
  },
  {
   "attachments": {},
   "cell_type": "markdown",
   "metadata": {},
   "source": []
  }
 ],
 "metadata": {
  "kernelspec": {
   "display_name": "venv",
   "language": "python",
   "name": "python3"
  },
  "language_info": {
   "codemirror_mode": {
    "name": "ipython",
    "version": 3
   },
   "file_extension": ".py",
   "mimetype": "text/x-python",
   "name": "python",
   "nbconvert_exporter": "python",
   "pygments_lexer": "ipython3",
   "version": "3.11.1"
  },
  "orig_nbformat": 4
 },
 "nbformat": 4,
 "nbformat_minor": 2
}
