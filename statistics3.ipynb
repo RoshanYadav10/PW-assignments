{
 "cells": [
  {
   "cell_type": "code",
   "execution_count": null,
   "metadata": {},
   "outputs": [],
   "source": [
    "# Q1. What is the Probability density function?\n",
    "# The Probability Density Function (PDF) is a fundamental concept in probability theory and statistics. It is used to describe the likelihood of a \n",
    "# continuous random variable taking on a specific value within a given range. In simpler terms, the PDF provides a way to describe the probability \n",
    "# distribution of a continuous random variable."
   ]
  },
  {
   "cell_type": "code",
   "execution_count": null,
   "metadata": {},
   "outputs": [],
   "source": [
    "# Q2. What are the types of Probability distribution?\n",
    "# 1.Bernaulli \n",
    "# 2.Binomial\n",
    "# 3.Poison\n",
    "# 4.Normal/Gaussian\n",
    "# 5.Uniform\n",
    "# 6.Log Normal"
   ]
  },
  {
   "cell_type": "code",
   "execution_count": 2,
   "metadata": {},
   "outputs": [
    {
     "name": "stdout",
     "output_type": "stream",
     "text": [
      "PDF at 1.5 = 0.1295\n"
     ]
    }
   ],
   "source": [
    "# Q3. Write a Python function to calculate the probability density function of a normal distribution with\n",
    "# given mean and standard deviation at a given point.\n",
    "import math\n",
    "\n",
    "def normal_pdf(x, mu, sigma):\n",
    "   \n",
    "    coefficient = 1 / (sigma * math.sqrt(2 * math.pi))\n",
    "    exponent = -0.5 * ((x - mu) / sigma) ** 2\n",
    "    pdf_value = coefficient * math.exp(exponent)\n",
    "    return pdf_value\n",
    "\n",
    "# Example usage\n",
    "mean = 0.0\n",
    "std_dev = 1.0\n",
    "point = 1.5\n",
    "\n",
    "pdf_at_point = normal_pdf(point, mean, std_dev)\n",
    "print(f\"PDF at {point} = {pdf_at_point:.4f}\")\n"
   ]
  },
  {
   "cell_type": "code",
   "execution_count": null,
   "metadata": {},
   "outputs": [],
   "source": [
    "# Q4. What are the properties of Binomial distribution? Give two examples of events where binomial\n",
    "# distribution can be applied.\n",
    "# .Every outcome is binary\n",
    "# .It is performed n number of times.\n",
    "# .Discrete random variable\n",
    "# .It is also called Bernaulli process\n",
    "# .PMF is calculated\n",
    "# Examples.:-heads or tails\n",
    "# pass or fail"
   ]
  },
  {
   "cell_type": "code",
   "execution_count": 6,
   "metadata": {},
   "outputs": [
    {
     "data": {
      "image/png": "[encoded data removed]",
      "text/plain": [
       "<Figure size 640x480 with 1 Axes>"
      ]
     },
     "metadata": {},
     "output_type": "display_data"
    }
   ],
   "source": [
    "# Q5. Generate a random sample of size 1000 from a binomial distribution with probability of success 0.4\n",
    "# and plot a histogram of the results using matplotlib.\n",
    "import numpy as np\n",
    "import matplotlib.pyplot as plt\n",
    "\n",
    "# Parameters for the binomial distribution\n",
    "n = 1000  # Number of trials\n",
    "p = 0.4   # Probability of success\n",
    "\n",
    "# Generate a random sample from the binomial distribution\n",
    "random_sample = np.random.binomial(n, p, size=1000)\n",
    "\n",
    "# Plot the histogram\n",
    "plt.hist(random_sample, bins=20, density=True, color='blue', alpha=0.7)\n",
    "plt.xlabel('Number of Successes')\n",
    "plt.ylabel('Probability Density')\n",
    "plt.title('Histogram of Binomial Distribution')\n",
    "plt.show()\n"
   ]
  },
  {
   "cell_type": "code",
   "execution_count": 7,
   "metadata": {},
   "outputs": [
    {
     "name": "stdout",
     "output_type": "stream",
     "text": [
      "CDF at 5 = 0.9161\n"
     ]
    }
   ],
   "source": [
    "# Q6. Write a Python function to calculate the cumulative distribution function of a Poisson distribution\n",
    "# with given mean at a given point.\n",
    "import math\n",
    "\n",
    "def poisson_cdf(x, mean):\n",
    "    \n",
    "    cdf_value = 0.0\n",
    "    for i in range(x + 1):\n",
    "        cdf_value += (math.exp(-mean) * mean**i) / math.factorial(i)\n",
    "    return cdf_value\n",
    "\n",
    "# Example usage\n",
    "mean = 3.0\n",
    "point = 5\n",
    "\n",
    "cdf_at_point = poisson_cdf(point, mean)\n",
    "print(f\"CDF at {point} = {cdf_at_point:.4f}\")\n"
   ]
  },
  {
   "cell_type": "code",
   "execution_count": null,
   "metadata": {},
   "outputs": [],
   "source": [
    "# Q7. How Binomial distribution different from Poisson distribution?\n",
    "\n",
    "# Binomial Distribution:\n",
    "# 1. Nature of Events: The Binomial distribution is used to model a fixed number of independent trials, where each trial has two possible \n",
    "# outcomes: success or failure.\n",
    "# 2. Parameters: The distribution is characterized by two parameters: the number of trials (n) and the probability of success (p).\n",
    "# 3. Sample Size: The number of trials (n) is fixed and finite.\n",
    "# 4. Random Variable: The random variable in the Binomial distribution is the count of successes (x) in the fixed number of trials.\n",
    "# 5. Conditions: It is suitable when the trials are independent, the probability of success remains constant for each trial, and the trials are\n",
    "#  binary (success/failure).\n",
    "# 6.Examples: Coin flips, number of successful email deliveries in a batch, pass/fail rates in quality control.\n",
    "\n",
    "# Poisson Distribution\n",
    "# 1. Nature of Events: The Poisson distribution is used to model the number of events occurring in a fixed interval of time or space, when \n",
    "# events happen at a constant average rate.\n",
    "# 2. Parameter: The distribution is characterized by a single parameter: the average rate of events (λ).\n",
    "# 3. Sample Size: The number of events is not fixed; it can vary from 0 to infinity.\n",
    "# 4. Random Variable: The random variable in the Poisson distribution is the count of events (x) in the interval.\n",
    "# 5. Conditions: It is suitable when events are rare and random, and the events occur independently at a constant average rate.\n",
    "# 6. Examples: Number of phone calls received in an hour, number of accidents in a day, number of typographical errors on a page.\n",
    "\n"
   ]
  },
  {
   "cell_type": "code",
   "execution_count": 11,
   "metadata": {},
   "outputs": [
    {
     "name": "stdout",
     "output_type": "stream",
     "text": [
      "Sample Mean: 4.9420\n",
      "Sample Variance: 4.8186\n"
     ]
    }
   ],
   "source": [
    "# Q8. Generate a random sample of size 1000 from a Poisson distribution with mean 5 and calculate the\n",
    "# sample mean and variance.\n",
    "import numpy as np\n",
    "\n",
    "# Parameters for the Poisson distribution\n",
    "mean = 5\n",
    "\n",
    "# Generate a random sample from the Poisson distribution\n",
    "random_sample = np.random.poisson(mean, size=1000)\n",
    "\n",
    "# Calculate the sample mean and variance\n",
    "sample_mean = np.mean(random_sample)\n",
    "sample_variance = np.var(random_sample)  \n",
    "\n",
    "print(f\"Sample Mean: {sample_mean:.4f}\")\n",
    "print(f\"Sample Variance: {sample_variance:.4f}\")\n"
   ]
  },
  {
   "cell_type": "code",
   "execution_count": null,
   "metadata": {},
   "outputs": [],
   "source": [
    "# # Q9. How mean and variance are related in Binomial distribution and Poisson distribution?\n",
    "# The relationship between the mean and variance in the Binomial distribution is straightforward: the variance scales with the number of trials and \n",
    "# the probability of success.\n",
    "\n",
    "# In the Poisson distribution, the mean and variance are equal and are determined solely by the average rate of events. This relationship is a \n",
    "# distinctive feature of the Poisson distribution, and it indicates that the distribution becomes more symmetric and concentrated around the mean as\n",
    "#  the mean (or rate) increases.\n",
    "\n",
    "# In summary, while both the Binomial and Poisson distributions exhibit relationships between their mean and variance, the formulas and implications \n",
    "# are different. In the Binomial distribution, the variance is influenced by both the number of trials and the probability of success, while in the \n",
    "# Poisson distribution, the mean and variance are identical and determined solely by the average rate of events."
   ]
  },
  {
   "cell_type": "code",
   "execution_count": null,
   "metadata": {},
   "outputs": [],
   "source": [
    "# Q10. In normal distribution with respect to mean position, where does the least frequent data appear?\n",
    "# In a normal distribution, which is also known as a Gaussian distribution, the data is symmetrically distributed around the mean (average) value. \n",
    "# This means that the data is equally likely to appear on both sides of the mean. Therefore, there is no specific \"least frequent\" or \"most frequent\"\n",
    "#  side of the distribution with respect to the mean position."
   ]
  }
 ],
 "metadata": {
  "kernelspec": {
   "display_name": "Python 3",
   "language": "python",
   "name": "python3"
  },
  "language_info": {
   "codemirror_mode": {
    "name": "ipython",
    "version": 3
   },
   "file_extension": ".py",
   "mimetype": "text/x-python",
   "name": "python",
   "nbconvert_exporter": "python",
   "pygments_lexer": "ipython3",
   "version": "3.11.4"
  },
  "orig_nbformat": 4
 },
 "nbformat": 4,
 "nbformat_minor": 2
}
