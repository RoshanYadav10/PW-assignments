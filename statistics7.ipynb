{
 "cells": [
  {
   "cell_type": "code",
   "execution_count": 2,
   "metadata": {},
   "outputs": [
    {
     "name": "stdout",
     "output_type": "stream",
     "text": [
      "90% Confidence Interval: (47.80865338205021, 52.19134661794979)\n"
     ]
    }
   ],
   "source": [
    "# Q1. Calculate the 95% confidence interval for a sample of data with a mean of 50 and a standard deviation\n",
    "# of 5 using Python. Interpret the results.\n",
    "import math\n",
    "sample_mean = 50\n",
    "confidence_level = 0.95\n",
    "z_score = 1.96\n",
    "standard_deviation = 5\n",
    "sample_size = 20\n",
    "\n",
    "standard_error = standard_deviation / math.sqrt(sample_size)\n",
    "\n",
    "margin_of_error = z_score * standard_error\n",
    "\n",
    "confidence_interval_lower = sample_mean - margin_of_error\n",
    "confidence_interval_upper = sample_mean + margin_of_error\n",
    "\n",
    "print(\"90% Confidence Interval:\", (confidence_interval_lower, confidence_interval_upper))"
   ]
  },
  {
   "cell_type": "code",
   "execution_count": 4,
   "metadata": {},
   "outputs": [
    {
     "name": "stdout",
     "output_type": "stream",
     "text": [
      "Chi-Square Statistic: 11.25\n",
      "p-value: 0.046642443562767574\n",
      "Reject the null hypothesis: The distributions are different.\n"
     ]
    }
   ],
   "source": [
    "# Q2. Conduct a chi-square goodness of fit test to determine if the distribution of colors of M&Ms in a bag\n",
    "# matches the expected distribution of 20% blue, 20% orange, 20% green, 10% yellow, 10% red, and 20%\n",
    "# brown. Use Python to perform the test with a significance level of 0.05.\n",
    "\n",
    "import scipy.stats as stat\n",
    "import numpy as np\n",
    "from scipy.stats import chisquare\n",
    "\n",
    "# Observed counts of colors\n",
    "observed_counts = np.array([50, 40, 45, 25, 15, 25])  # Replace with your actual data\n",
    "\n",
    "# Expected proportions for each color\n",
    "expected_proportions = np.array([0.20, 0.20, 0.20, 0.10, 0.10, 0.20])\n",
    "\n",
    "# Calculate the expected counts based on the total observations and expected proportions\n",
    "total_observations = np.sum(observed_counts)\n",
    "expected_counts = expected_proportions * total_observations\n",
    "\n",
    "# Perform the chi-square test\n",
    "chi_square_stat, p_value = chisquare(observed_counts, f_exp=expected_counts)\n",
    "\n",
    "# Significance level\n",
    "alpha = 0.05\n",
    "\n",
    "# Print the results\n",
    "print(\"Chi-Square Statistic:\", chi_square_stat)\n",
    "print(\"p-value:\", p_value)\n",
    "\n",
    "if p_value < alpha:\n",
    "    print(\"Reject the null hypothesis: The distributions are different.\")\n",
    "else:\n",
    "    print(\"Fail to reject the null hypothesis: The distributions are similar.\")\n",
    "\n"
   ]
  },
  {
   "cell_type": "code",
   "execution_count": 11,
   "metadata": {},
   "outputs": [
    {
     "name": "stdout",
     "output_type": "stream",
     "text": [
      "Chi-Square Statistic: 5.833333333333334\n",
      "p-value: 0.05411376622282158\n",
      "Degrees of Freedom: 2\n",
      "Expected Frequencies:\n",
      " [[15. 20.]\n",
      " [15. 20.]\n",
      " [15. 20.]]\n",
      "Fail to reject the null hypothesis: No significant association.\n"
     ]
    }
   ],
   "source": [
    "# Q3. Use Python to calculate the chi-square statistic and p-value for a contingency table with the following\n",
    "# data:\n",
    "\n",
    "# Interpret the results of the test.\n",
    "\n",
    "import numpy as np\n",
    "from scipy.stats import chi2_contingency\n",
    "import scipy.stats as stats\n",
    "\n",
    "# Create the contingency table\n",
    "observed = np.array([[20, 15],\n",
    "                     [10, 25],\n",
    "                     [15, 20]])\n",
    "\n",
    "# Perform the chi-square test\n",
    "chi_square_stat, p_value, degrees_of_freedom, expected = chi2_contingency(observed)\n",
    "\n",
    "# Significance level\n",
    "alpha = 0.05\n",
    "\n",
    "# Print the results\n",
    "print(\"Chi-Square Statistic:\", chi_square_stat)\n",
    "print(\"p-value:\", p_value)\n",
    "print(\"Degrees of Freedom:\", degrees_of_freedom)\n",
    "print(\"Expected Frequencies:\\n\", expected)\n",
    "critical_chi_square = stats.chi2.ppf(1 - alpha, degrees_of_freedom)\n",
    "\n",
    "if p_value > critical_chi_square:\n",
    "    print(\"Reject the null hypothesis: There is a significant association.\")\n",
    "else:\n",
    "    print(\"Fail to reject the null hypothesis: No significant association.\")"
   ]
  },
  {
   "cell_type": "code",
   "execution_count": 14,
   "metadata": {},
   "outputs": [
    {
     "name": "stdout",
     "output_type": "stream",
     "text": [
      "95% Confidence Interval: (0.09151638887130707, 0.1484836111286929)\n"
     ]
    }
   ],
   "source": [
    "# Q4. A study of the prevalence of smoking in a population of 500 individuals found that 60 individuals\n",
    "# smoked. Use Python to calculate the 95% confidence interval for the true proportion of individuals in the\n",
    "# population who smoke.\n",
    "\n",
    "import scipy.stats as stats\n",
    "\n",
    "# Sample size\n",
    "n = 500\n",
    "\n",
    "# Number of individuals who smoke\n",
    "x = 60\n",
    "\n",
    "# Calculate the sample proportion\n",
    "p_hat = x / n\n",
    "\n",
    "# Significance level\n",
    "alpha = 0.05\n",
    "\n",
    "# Calculate the z-score for the desired confidence level\n",
    "z = stats.norm.ppf(1 - alpha / 2)\n",
    "\n",
    "# Calculate the standard error of the proportion\n",
    "se = (p_hat * (1 - p_hat) / n) ** 0.5\n",
    "\n",
    "# Calculate the margin of error\n",
    "margin_of_error = z * se\n",
    "\n",
    "# Calculate the confidence interval\n",
    "confidence_interval_lower = p_hat - margin_of_error\n",
    "confidence_interval_upper = p_hat + margin_of_error\n",
    "\n",
    "print(\"95% Confidence Interval:\", (confidence_interval_lower, confidence_interval_upper))\n"
   ]
  },
  {
   "cell_type": "code",
   "execution_count": 16,
   "metadata": {},
   "outputs": [
    {
     "name": "stdout",
     "output_type": "stream",
     "text": [
      "90% Confidence Interval: (72.20859083117598, 77.79140916882402)\n"
     ]
    }
   ],
   "source": [
    "# Q5. Calculate the 90% confidence interval for a sample of data with a mean of 75 and a standard deviation\n",
    "# of 12 using Python. Interpret the results.\n",
    "\n",
    "import scipy.stats as stats\n",
    "\n",
    "sample_mean = 75\n",
    "confidence_level = 0.90\n",
    "alpha = 1 - confidence_level\n",
    "z_critical = stats.norm.ppf(1 - alpha / 2)  # Z-score for a normal distribution\n",
    "\n",
    "standard_deviation = 12\n",
    "sample_size = 50  \n",
    "\n",
    "# Calculate the standard error\n",
    "standard_error = standard_deviation / (sample_size ** 0.5)\n",
    "\n",
    "# Calculate the margin of error\n",
    "margin_of_error = z_critical * standard_error\n",
    "\n",
    "# Calculate the confidence interval\n",
    "confidence_interval_lower = sample_mean - margin_of_error\n",
    "confidence_interval_upper = sample_mean + margin_of_error\n",
    "\n",
    "print(\"90% Confidence Interval:\", (confidence_interval_lower, confidence_interval_upper))\n"
   ]
  },
  {
   "cell_type": "code",
   "execution_count": 17,
   "metadata": {},
   "outputs": [
    {
     "data": {
      "image/png": "[encoded data removed]",
      "text/plain": [
       "<Figure size 1000x600 with 1 Axes>"
      ]
     },
     "metadata": {},
     "output_type": "display_data"
    }
   ],
   "source": [
    "# Q6. Use Python to plot the chi-square distribution with 10 degrees of freedom. Label the axes and shade the\n",
    "# area corresponding to a chi-square statistic of 15.\n",
    "\n",
    "import numpy as np\n",
    "import matplotlib.pyplot as plt\n",
    "import scipy.stats as stats\n",
    "\n",
    "# Degrees of freedom\n",
    "df = 10\n",
    "\n",
    "# Generate x values for the plot\n",
    "x = np.linspace(0, 30, 1000)\n",
    "\n",
    "# Chi-square distribution\n",
    "chi2_dist = stats.chi2(df)\n",
    "\n",
    "# Calculate the probability density function (PDF) values\n",
    "pdf_values = chi2_dist.pdf(x)\n",
    "\n",
    "# Create the plot\n",
    "plt.figure(figsize=(10, 6))\n",
    "plt.plot(x, pdf_values, label=f\"df = {df}\")\n",
    "\n",
    "# Shade the area for chi-square statistic of 15\n",
    "x_shade = np.linspace(0, 15, 1000)\n",
    "pdf_values_shade = chi2_dist.pdf(x_shade)\n",
    "plt.fill_between(x_shade, pdf_values_shade, color='skyblue', alpha=0.5)\n",
    "\n",
    "# Add labels and title\n",
    "plt.xlabel('Chi-Square Value')\n",
    "plt.ylabel('Probability Density')\n",
    "plt.title('Chi-Square Distribution')\n",
    "plt.legend()\n",
    "\n",
    "plt.show()\n"
   ]
  },
  {
   "cell_type": "code",
   "execution_count": 21,
   "metadata": {},
   "outputs": [
    {
     "name": "stdout",
     "output_type": "stream",
     "text": [
      "99% Confidence Interval: (0.4793051576779699, 0.5606948423220302)\n"
     ]
    }
   ],
   "source": [
    "# Q7. A random sample of 1000 people was asked if they preferred Coke or Pepsi. Of the sample, 520\n",
    "# preferred Coke. Calculate a 99% confidence interval for the true proportion of people in the population who\n",
    "# prefer Coke.\n",
    "\n",
    "import scipy.stats as stats\n",
    "\n",
    "sample_size = 1000\n",
    "preferred_coke = 520\n",
    "confidence_level = 0.99\n",
    "\n",
    "# Calculate the sample proportion\n",
    "p_hat = preferred_coke / sample_size\n",
    "\n",
    "# Calculate the standard error\n",
    "standard_error = (p_hat * (1 - p_hat) / sample_size) ** 0.5\n",
    "\n",
    "# Calculate the z-score for the desired confidence level\n",
    "z_critical = stats.norm.ppf(1 - (1 - confidence_level) / 2)\n",
    "\n",
    "# Calculate the margin of error\n",
    "margin_of_error = z_critical * standard_error\n",
    "\n",
    "# Calculate the confidence interval\n",
    "confidence_interval_lower = p_hat - margin_of_error\n",
    "confidence_interval_upper = p_hat + margin_of_error\n",
    "\n",
    "print(\"99% Confidence Interval:\", (confidence_interval_lower, confidence_interval_upper))\n",
    "\n"
   ]
  },
  {
   "cell_type": "code",
   "execution_count": 27,
   "metadata": {},
   "outputs": [
    {
     "name": "stdout",
     "output_type": "stream",
     "text": [
      "Chi-Square Statistic: 0.5\n",
      "Degrees of Freedom: 1\n",
      "Critical Chi-Square Value: 3.841458820694124\n",
      "p-value: 0.47950012218695337\n",
      "Fail to reject the null hypothesis: The observed frequencies match the expected frequencies.\n"
     ]
    }
   ],
   "source": [
    "# Q8. A researcher hypothesizes that a coin is biased towards tails. They flip the coin 100 times and observe\n",
    "# 45 tails. Conduct a chi-square goodness of fit test to determine if the observed frequencies match the\n",
    "# expected frequencies of a fair coin. Use a significance level of 0.05.\n",
    "\n",
    "from scipy.stats import chi2\n",
    "import numpy as np\n",
    "\n",
    "# Given data\n",
    "observed_tails = 45\n",
    "total_flips = 100\n",
    "\n",
    "# Expected frequencies for a fair coin\n",
    "expected_heads = total_flips / 2\n",
    "expected_tails = total_flips / 2\n",
    "\n",
    "observed_frequencies = np.array([expected_heads, observed_tails])\n",
    "expected_frequencies = np.array([expected_heads, expected_tails])\n",
    "\n",
    "# Calculate the chi-square statistic\n",
    "chi_square_stat = np.sum((observed_frequencies - expected_frequencies)**2 / expected_frequencies)\n",
    "\n",
    "# Degrees of freedom (number of categories - 1)\n",
    "degrees_of_freedom = len(observed_frequencies) - 1\n",
    "\n",
    "# Significance level\n",
    "alpha = 0.05\n",
    "\n",
    "# Calculate the critical chi-square value\n",
    "critical_chi_square = chi2.ppf(1 - alpha, degrees_of_freedom)\n",
    "\n",
    "# Calculate the p-value\n",
    "p_value = 1 - chi2.cdf(chi_square_stat, degrees_of_freedom)\n",
    "\n",
    "# Print the results\n",
    "print(\"Chi-Square Statistic:\", chi_square_stat)\n",
    "print(\"Degrees of Freedom:\", degrees_of_freedom)\n",
    "print(\"Critical Chi-Square Value:\", critical_chi_square)\n",
    "print(\"p-value:\", p_value)\n",
    "\n",
    "if chi_square_stat >= critical_chi_square:\n",
    "    print(\"Reject the null hypothesis: The observed frequencies do not match the expected frequencies.\")\n",
    "else:\n",
    "    print(\"Fail to reject the null hypothesis: The observed frequencies match the expected frequencies.\")\n"
   ]
  },
  {
   "cell_type": "code",
   "execution_count": 28,
   "metadata": {},
   "outputs": [
    {
     "name": "stdout",
     "output_type": "stream",
     "text": [
      "Chi-Square Statistic: 12.057347670250895\n",
      "Degrees of Freedom: 1\n",
      "p-value: 0.0005158863863703744\n",
      "Reject the null hypothesis: There is a significant association between smoking status and lung cancer diagnosis.\n"
     ]
    }
   ],
   "source": [
    "# Q9. A study was conducted to determine if there is an association between smoking status (smoker or\n",
    "# non-smoker) and lung cancer diagnosis (yes or no). The results are shown in the contingency table below.\n",
    "# Conduct a chi-square test for independence to determine if there is a significant association between\n",
    "# smoking status and lung cancer diagnosis.\n",
    "\n",
    "import numpy as np\n",
    "import scipy.stats as stats\n",
    "\n",
    "# Given data in the form of a contingency table\n",
    "observed_frequencies = np.array([[60, 140], [30, 170]])\n",
    "\n",
    "# Perform the chi-square test for independence\n",
    "chi_square_stat, p_value, degrees_of_freedom, expected_frequencies = stats.chi2_contingency(observed_frequencies)\n",
    "\n",
    "# Significance level\n",
    "alpha = 0.05\n",
    "\n",
    "# Print the results\n",
    "print(\"Chi-Square Statistic:\", chi_square_stat)\n",
    "print(\"Degrees of Freedom:\", degrees_of_freedom)\n",
    "print(\"p-value:\", p_value)\n",
    "\n",
    "if p_value < alpha:\n",
    "    print(\"Reject the null hypothesis: There is a significant association between smoking status and lung cancer diagnosis.\")\n",
    "else:\n",
    "    print(\"Fail to reject the null hypothesis: There is no significant association between smoking status and lung cancer diagnosis.\")\n"
   ]
  },
  {
   "cell_type": "code",
   "execution_count": 29,
   "metadata": {},
   "outputs": [
    {
     "name": "stdout",
     "output_type": "stream",
     "text": [
      "Chi-Square Statistic: 13.393665158371041\n",
      "Degrees of Freedom: 2\n",
      "p-value: 0.0012348168997745915\n",
      "Reject the null hypothesis: There is a significant association between chocolate preference and country of origin.\n"
     ]
    }
   ],
   "source": [
    "# Q10. A study was conducted to determine if the proportion of people who prefer milk chocolate, dark\n",
    "# chocolate, or white chocolate is different in the U.S. versus the U.K. A random sample of 500 people from\n",
    "# the U.S. and a random sample of 500 people from the U.K. were surveyed. The results are shown in the\n",
    "# contingency table below. Conduct a chi-square test for independence to determine if there is a significant\n",
    "# association between chocolate preference and country of origin.\n",
    "\n",
    "# Use a significance level of 0.01.\n",
    "\n",
    "import numpy as np\n",
    "import scipy.stats as stats\n",
    "\n",
    "# Given data in the form of a contingency table\n",
    "observed_frequencies = np.array([[200, 150, 150], [225, 175, 100]])\n",
    "\n",
    "# Perform the chi-square test for independence\n",
    "chi_square_stat, p_value, degrees_of_freedom, expected_frequencies = stats.chi2_contingency(observed_frequencies)\n",
    "\n",
    "# Significance level\n",
    "alpha = 0.01\n",
    "\n",
    "# Print the results\n",
    "print(\"Chi-Square Statistic:\", chi_square_stat)\n",
    "print(\"Degrees of Freedom:\", degrees_of_freedom)\n",
    "print(\"p-value:\", p_value)\n",
    "\n",
    "if p_value < alpha:\n",
    "    print(\"Reject the null hypothesis: There is a significant association between chocolate preference and country of origin.\")\n",
    "else:\n",
    "    print(\"Fail to reject the null hypothesis: There is no significant association between chocolate preference and country of origin.\")\n"
   ]
  },
  {
   "cell_type": "code",
   "execution_count": 30,
   "metadata": {},
   "outputs": [
    {
     "name": "stdout",
     "output_type": "stream",
     "text": [
      "t-Statistic: 1.0954451150103321\n",
      "Degrees of Freedom: 29\n",
      "Critical t-Value: 2.045229642132703\n",
      "p-value: 0.2823362372860698\n",
      "Fail to reject the null hypothesis: The population mean is not significantly different from 70.\n"
     ]
    }
   ],
   "source": [
    "# Q11. A random sample of 30 people was selected from a population with an unknown mean and standard\n",
    "# deviation. The sample mean was found to be 72 and the sample standard deviation was found to be 10.\n",
    "# Conduct a hypothesis test to determine if the population mean is significantly different from 70. Use a\n",
    "# significance level of 0.05.\n",
    "\n",
    "import scipy.stats as stats\n",
    "\n",
    "sample_mean = 72\n",
    "sample_std_dev = 10\n",
    "population_mean = 70\n",
    "sample_size = 30\n",
    "significance_level = 0.05\n",
    "\n",
    "# Calculate the t-statistic\n",
    "t_statistic = (sample_mean - population_mean) / (sample_std_dev / (sample_size ** 0.5))\n",
    "\n",
    "# Calculate the degrees of freedom\n",
    "degrees_of_freedom = sample_size - 1\n",
    "\n",
    "# Calculate the critical t-value for the desired significance level and degrees of freedom\n",
    "critical_t_value = stats.t.ppf(1 - significance_level / 2, degrees_of_freedom)\n",
    "\n",
    "# Calculate the p-value\n",
    "p_value = 2 * (1 - stats.t.cdf(abs(t_statistic), degrees_of_freedom))\n",
    "\n",
    "# Print the results\n",
    "print(\"t-Statistic:\", t_statistic)\n",
    "print(\"Degrees of Freedom:\", degrees_of_freedom)\n",
    "print(\"Critical t-Value:\", critical_t_value)\n",
    "print(\"p-value:\", p_value)\n",
    "\n",
    "if p_value < significance_level:\n",
    "    print(\"Reject the null hypothesis: The population mean is significantly different from 70.\")\n",
    "else:\n",
    "    print(\"Fail to reject the null hypothesis: The population mean is not significantly different from 70.\")\n"
   ]
  },
  {
   "cell_type": "code",
   "execution_count": null,
   "metadata": {},
   "outputs": [],
   "source": []
  }
 ],
 "metadata": {
  "kernelspec": {
   "display_name": "Python 3",
   "language": "python",
   "name": "python3"
  },
  "language_info": {
   "codemirror_mode": {
    "name": "ipython",
    "version": 3
   },
   "file_extension": ".py",
   "mimetype": "text/x-python",
   "name": "python",
   "nbconvert_exporter": "python",
   "pygments_lexer": "ipython3",
   "version": "3.11.4"
  },
  "orig_nbformat": 4
 },
 "nbformat": 4,
 "nbformat_minor": 2
}
