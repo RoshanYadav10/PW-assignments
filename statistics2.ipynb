{
 "cells": [
  {
   "cell_type": "code",
   "execution_count": 2,
   "metadata": {},
   "outputs": [],
   "source": [
    "# Q1. What are the three measures of central tendency?\n",
    "# Ans:-\n",
    "# 1]Mean\n",
    "# 2]Median\n",
    "# 3]Mode"
   ]
  },
  {
   "cell_type": "code",
   "execution_count": null,
   "metadata": {},
   "outputs": [],
   "source": [
    "# # Q2. What is the difference between the mean, median, and mode? How are they used to measure the\n",
    "# # central tendency of a dataset?\n",
    "# Mean, median, and mode are three different measures of central tendency used to describe the typical or central value of a dataset. They provide\n",
    "# insight into the \"average\" or most representative value within a set of data points. their differences:\n",
    "\n",
    "# Mean:\n",
    "# The mean, also known as the average, is calculated by adding up all the values in a dataset and then dividing the sum by the number of data points.\n",
    "#  Mathematically, it is represented as:\n",
    "# Mean=Sum of all values/Number of data points\n",
    "\n",
    "# Median:\n",
    "# The median is the middle value of a dataset when it is arranged in ascending or descending order. It is not affected by outliers in the same way\n",
    "#  as the mean. To calculate the median, follow these steps:\n",
    "# Arrange the data in order.\n",
    "# If the dataset has an odd number of values, the median is the middle value.\n",
    "# If the dataset has an even number of values, the median is the average of the two middle values.\n",
    "\n",
    "# Mode:\n",
    "# The mode is the value that appears most frequently in a dataset. A dataset can have one mode (unimodal), multiple modes (multimodal), or no mode \n",
    "# at all (if all values appear with the same frequency). The mode is not affected by outliers and can be useful for identifying the most common value\n",
    "#  in a dataset."
   ]
  },
  {
   "cell_type": "code",
   "execution_count": 9,
   "metadata": {},
   "outputs": [],
   "source": [
    "# Q3. Measure the three measures of central tendency for the given height data:\n",
    "# [178,177,176,177,178.2,178,175,179,180,175,178.9,176.2,177,172.5,178,176.5]\n",
    "import pandas as pd\n",
    "data=[178,177,176,177,178.2,178,175,179,180,175,178.9,176.2,177,172.5,178,176.5]\n",
    "df=pd.DataFrame(data,columns=['A'])"
   ]
  },
  {
   "cell_type": "code",
   "execution_count": 10,
   "metadata": {},
   "outputs": [
    {
     "data": {
      "text/plain": [
       "A    177.01875\n",
       "dtype: float64"
      ]
     },
     "execution_count": 10,
     "metadata": {},
     "output_type": "execute_result"
    }
   ],
   "source": [
    "df.mean()"
   ]
  },
  {
   "cell_type": "code",
   "execution_count": 11,
   "metadata": {},
   "outputs": [
    {
     "data": {
      "text/html": [
       "<div>\n",
       "<style scoped>\n",
       "    .dataframe tbody tr th:only-of-type {\n",
       "        vertical-align: middle;\n",
       "    }\n",
       "\n",
       "    .dataframe tbody tr th {\n",
       "        vertical-align: top;\n",
       "    }\n",
       "\n",
       "    .dataframe thead th {\n",
       "        text-align: right;\n",
       "    }\n",
       "</style>\n",
       "<table border=\"1\" class=\"dataframe\">\n",
       "  <thead>\n",
       "    <tr style=\"text-align: right;\">\n",
       "      <th></th>\n",
       "      <th>A</th>\n",
       "    </tr>\n",
       "  </thead>\n",
       "  <tbody>\n",
       "    <tr>\n",
       "      <th>0</th>\n",
       "      <td>177.0</td>\n",
       "    </tr>\n",
       "    <tr>\n",
       "      <th>1</th>\n",
       "      <td>178.0</td>\n",
       "    </tr>\n",
       "  </tbody>\n",
       "</table>\n",
       "</div>"
      ],
      "text/plain": [
       "       A\n",
       "0  177.0\n",
       "1  178.0"
      ]
     },
     "execution_count": 11,
     "metadata": {},
     "output_type": "execute_result"
    }
   ],
   "source": [
    "df.mode()"
   ]
  },
  {
   "cell_type": "code",
   "execution_count": 12,
   "metadata": {},
   "outputs": [
    {
     "data": {
      "text/plain": [
       "A    177.0\n",
       "dtype: float64"
      ]
     },
     "execution_count": 12,
     "metadata": {},
     "output_type": "execute_result"
    }
   ],
   "source": [
    "df.median()"
   ]
  },
  {
   "cell_type": "code",
   "execution_count": 13,
   "metadata": {},
   "outputs": [
    {
     "data": {
      "text/plain": [
       "A    1.847239\n",
       "dtype: float64"
      ]
     },
     "execution_count": 13,
     "metadata": {},
     "output_type": "execute_result"
    }
   ],
   "source": [
    "# Q4. Find the standard deviation for the given data:\n",
    "# [178,177,176,177,178.2,178,175,179,180,175,178.9,176.2,177,172.5,178,176.5]\n",
    "df.std()"
   ]
  },
  {
   "cell_type": "code",
   "execution_count": 14,
   "metadata": {},
   "outputs": [],
   "source": [
    "# Q5. How are measures of dispersion such as range, variance, and standard deviation used to describe\n",
    "# the spread of a dataset? Provide an example.\n",
    "\n",
    "# Suppose we have a dataset representing the daily temperatures (in degrees Celsius) for a city over a week:\n",
    "\n",
    "\n",
    "# Temperatures=[25,27,26,23,28,24,25]\n",
    "\n",
    "# Range:\n",
    "# The range is the simplest measure of dispersion and is calculated as the difference between the maximum and minimum values in the dataset.\n",
    "#  It gives an idea of the overall spread of the data but is sensitive to outliers.\n",
    "# Range=Max(Temperatures)−Min(Temperatures)\n",
    "# Range=28−23=5\n",
    "\n",
    "# Variance:\n",
    "# Variance measures how much the individual data points deviate from the mean of the dataset. It's calculated by averaging the squared differences\n",
    "#  between each data point and the mean. A higher variance indicates more variability in the data.\n",
    "\n",
    "\n",
    "# Standard Deviation:\n",
    "# The standard deviation is the square root of the variance and provides a measure of dispersion in the original units of the data. \n",
    "# A higher standard deviation indicates greater variability.\n",
    "\n",
    "# Standard Deviation= sqrt(Variance)\n",
    "\n",
    " "
   ]
  },
  {
   "cell_type": "code",
   "execution_count": null,
   "metadata": {},
   "outputs": [],
   "source": [
    "# Q6. What is a Venn diagram?\n",
    "# A Venn diagram is a graphical representation that uses circles (or sometimes other shapes) to show the relationships between different sets or \n",
    "# groups of items. It visually illustrates the overlap and differences between these sets. Venn diagrams are widely used in various fields, \n",
    "# including mathematics, logic, statistics, and data analysis, to help clarify concepts related to set theory and comparisons."
   ]
  },
  {
   "cell_type": "code",
   "execution_count": 15,
   "metadata": {},
   "outputs": [],
   "source": [
    "# Q7. For the two given sets A = (2,3,4,5,6,7) & B = (0,2,6,8,10). Find:\n",
    "# (i) A intersection B={2,6}\n",
    "# (ii) A ⋃ B={0,2,3,4,5,6,7,8,10}"
   ]
  },
  {
   "cell_type": "code",
   "execution_count": 16,
   "metadata": {},
   "outputs": [],
   "source": [
    "# # Q8. What do you understand about skewness in data?\n",
    "# # Skewness is a statistical term that measures the asymmetry of the probability distribution of a dataset. In other words, it indicates the extent\n",
    "# #  to which the data is skewed or distorted to one side of the mean, rather than being symmetrically distributed.\n",
    "\n",
    "# # Skewness is an important concept in understanding the shape of data distributions, especially in statistics and data analysis.\n",
    "# There are three types of skewness:\n",
    "# Positive\n",
    "# Negative\n",
    "# Symmetric distribution"
   ]
  },
  {
   "cell_type": "code",
   "execution_count": null,
   "metadata": {},
   "outputs": [],
   "source": [
    "# Q9. If a data is right skewed then what will be the position of median with respect to mean?\n",
    "#Ans:- mean<meadian"
   ]
  },
  {
   "cell_type": "code",
   "execution_count": 17,
   "metadata": {},
   "outputs": [],
   "source": [
    "# Q10. Explain the difference between covariance and correlation. How are these measures used in\n",
    "# statistical analysis?\n",
    "# Difference between covariance and correlation is that covariance measures relationship between x and x,but correlation measures relationship \n",
    "# # between x and y\n",
    "# In statistical analysis, both covariance and correlation are used to understand the relationships between variables. They can help identify\n",
    "#  patterns, dependencies, and trends in data. For example, in finance, correlation is used to understand the relationships between stock prices."
   ]
  },
  {
   "cell_type": "code",
   "execution_count": null,
   "metadata": {},
   "outputs": [],
   "source": [
    "# Q11. What is the formula for calculating the sample mean? Provide an example calculation for a\n",
    "# dataset.\n",
    "# Sample mean=sum(x)/n\n",
    "# Example:-\n",
    "# Suppose you have a dataset representing the scores of a class of students in a math exam:\n",
    "\n",
    "# Scores=[85,92,78,88,95,89,83,77,90,84]\n",
    "\n",
    "# Steps to calculate sample mean:-\n",
    "# 1]Add up all scores\n",
    "# 2]Divide it by no of scores\n",
    "# sample mean=871/10=87.1"
   ]
  },
  {
   "cell_type": "code",
   "execution_count": null,
   "metadata": {},
   "outputs": [],
   "source": [
    "# Q12. For a normal distribution data what is the relationship between its measure of central tendency?\n",
    "# mean=median=mode"
   ]
  },
  {
   "cell_type": "code",
   "execution_count": null,
   "metadata": {},
   "outputs": [],
   "source": [
    "# Q13. How is covariance different from correlation?\n",
    "# Difference between covariance and correlation is that covariance measures relationship between x and x,but correlation measures relationship \n",
    "# # between x and y"
   ]
  },
  {
   "cell_type": "code",
   "execution_count": null,
   "metadata": {},
   "outputs": [],
   "source": [
    "# Q14. How do outliers affect measures of central tendency and dispersion? Provide an example.\n",
    "# Outliers are data points that significantly differ from the rest of the data in a dataset. They can have a notable impact on measures of central \n",
    "# tendency (mean, median, mode) and measures of dispersion (range, variance, standard deviation).\n",
    "\n",
    "# Let's consider an example to understand how outliers affect measures of central tendency and dispersion:\n",
    "\n",
    "# Suppose we have a dataset representing the ages of a group of people:\n",
    "\n",
    "# Ages=[22,25,27,30,31,32,33,35,37,45,51,59]\n",
    "\n",
    "# Measures of Central Tendency:\n",
    "\n",
    "# Mean: The mean of the original data is 34.5.\n",
    "# Median: The median is the middle value, which in this case is 33.\n",
    "# Mode: There is no mode, as all values are unique.\n",
    "# Measures of Dispersion:\n",
    "\n",
    "# Range: The range is 59−22=37.\n",
    "# Variance: The variance is 176.25\n",
    "# 176.25.\n",
    "# Standard Deviation: The standard deviation is 13.28\n",
    "\n",
    "# Now, let's introduce an outlier, an age of 90, into the dataset:\n",
    "\n",
    "# Ages with Outlier=[22,25,27,30,31,32,33,35,37,45,51,59,90]\n",
    "\n",
    "# Measures of Central Tendency (with Outlier):\n",
    "\n",
    "# Mean: The mean becomes ≈42.15, significantly affected by the outlier.\n",
    "# Median: The median remains 33, unchanged by the outlier.\n",
    "# Mode: There is no mode, as all values are unique.\n",
    "# Measures of Dispersion (with Outlier):\n",
    "\n",
    "# Range: The range increases to 90−22=68, due to the outlier.\n",
    "# Variance: The variance increases to 473.71 reflecting the increased variability caused by the outlier.\n",
    "# Standard Deviation: The standard deviation increases to 21.76."
   ]
  }
 ],
 "metadata": {
  "kernelspec": {
   "display_name": "Python 3",
   "language": "python",
   "name": "python3"
  },
  "language_info": {
   "codemirror_mode": {
    "name": "ipython",
    "version": 3
   },
   "file_extension": ".py",
   "mimetype": "text/x-python",
   "name": "python",
   "nbconvert_exporter": "python",
   "pygments_lexer": "ipython3",
   "version": "3.11.4"
  },
  "orig_nbformat": 4
 },
 "nbformat": 4,
 "nbformat_minor": 2
}
