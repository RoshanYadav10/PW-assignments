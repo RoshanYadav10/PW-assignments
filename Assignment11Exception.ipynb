{
 "cells": [
  {
   "cell_type": "code",
   "execution_count": null,
   "id": "9201a1cd-58d9-4e49-8122-e49e5f4c2ee4",
   "metadata": {},
   "outputs": [],
   "source": [
    "#Q1.What is an Exception in python?What is difference between Exception and Syntax error\n",
    "#Ans:-Exceptions are error.Difference between Exception and Syntax error is that Exception occur at run time and syntax error \n",
    "#is identified at compile time itseld"
   ]
  },
  {
   "cell_type": "code",
   "execution_count": 1,
   "id": "a90cdbad-9b03-4958-b0b8-af17269de38b",
   "metadata": {},
   "outputs": [
    {
     "ename": "ZeroDivisionError",
     "evalue": "division by zero",
     "output_type": "error",
     "traceback": [
      "\u001b[1;31m---------------------------------------------------------------------------\u001b[0m",
      "\u001b[1;31mZeroDivisionError\u001b[0m                         Traceback (most recent call last)",
      "\u001b[1;32m~\\AppData\\Local\\Temp/ipykernel_23788/476632712.py\u001b[0m in \u001b[0;36m<module>\u001b[1;34m\u001b[0m\n\u001b[0;32m      2\u001b[0m \u001b[1;31m#Ans:-When exception is not handled it will disturb the flow of execution of code.Example:-\u001b[0m\u001b[1;33m\u001b[0m\u001b[1;33m\u001b[0m\u001b[0m\n\u001b[0;32m      3\u001b[0m \u001b[0ma\u001b[0m\u001b[1;33m=\u001b[0m\u001b[1;36m10\u001b[0m\u001b[1;33m\u001b[0m\u001b[1;33m\u001b[0m\u001b[0m\n\u001b[1;32m----> 4\u001b[1;33m \u001b[0ma\u001b[0m\u001b[1;33m/\u001b[0m\u001b[1;36m0\u001b[0m\u001b[1;33m\u001b[0m\u001b[1;33m\u001b[0m\u001b[0m\n\u001b[0m\u001b[0;32m      5\u001b[0m \u001b[0mprint\u001b[0m\u001b[1;33m(\u001b[0m\u001b[1;34m\"My name is jai\"\u001b[0m\u001b[1;33m)\u001b[0m\u001b[1;33m\u001b[0m\u001b[1;33m\u001b[0m\u001b[0m\n",
      "\u001b[1;31mZeroDivisionError\u001b[0m: division by zero"
     ]
    }
   ],
   "source": [
    "#Q2.What happens when an exception is not handled?Explain with example?\n",
    "#Ans:-When exception is not handled it will disturb the flow of execution of code.Example:-\n",
    "a=10\n",
    "a/0\n",
    "print(\"My name is jai\")"
   ]
  },
  {
   "cell_type": "code",
   "execution_count": 2,
   "id": "00abd4e9-fa02-44c6-916f-484acec7d411",
   "metadata": {},
   "outputs": [
    {
     "name": "stdout",
     "output_type": "stream",
     "text": [
      "division by zero\n"
     ]
    }
   ],
   "source": [
    "#Q3. Which Python statements are used to catch and handle exceptions? Explain with an example\n",
    "#Ans:-except statement is used to handle exception in python.\n",
    "try:\n",
    "    a=10\n",
    "    a/0\n",
    "except Exception as e:\n",
    "    print(e)"
   ]
  },
  {
   "cell_type": "code",
   "execution_count": 3,
   "id": "020ed50f-fb64-4e59-8a60-7285f6702f1a",
   "metadata": {},
   "outputs": [
    {
     "name": "stdout",
     "output_type": "stream",
     "text": [
      "division by zero\n",
      "Executes everytime\n"
     ]
    }
   ],
   "source": [
    "#Q4. Explain with an example:\n",
    "#try and else:\n",
    "try:\n",
    "    a=10\n",
    "    a/0\n",
    "except Exception as e:\n",
    "    print(e)\n",
    "else:\n",
    "    print(\"Executes when try is executed\")\n",
    "#b.finally\n",
    "finally:\n",
    "    print(\"Executes everytime\")\n",
    "#c.raise:\n",
    "#It is used to raise an error"
   ]
  },
  {
   "cell_type": "code",
   "execution_count": null,
   "id": "c7f19a83-80f2-422c-8e28-29a7f04e1a0d",
   "metadata": {},
   "outputs": [],
   "source": [
    "#Q5. What are Custom Exceptions in python? Why do we need Custom Exceptions? Explain with an example\n",
    "#Ans:It is user defined function.We can need custom exception as not every exception can be built in some can be situation dependent according to product.\n"
   ]
  },
  {
   "cell_type": "code",
   "execution_count": 5,
   "id": "e3959508-e765-4c92-89da-10e29d0d7651",
   "metadata": {},
   "outputs": [
    {
     "name": "stdin",
     "output_type": "stream",
     "text": [
      "Please enter age for License: 16\n"
     ]
    },
    {
     "name": "stdout",
     "output_type": "stream",
     "text": [
      "Cannot Apply\n"
     ]
    }
   ],
   "source": [
    "#Q6. Create custom exception calss. Use this class to handle an exception.\n",
    "#Ans:-\n",
    "class License(Exception):\n",
    "    def __init__(self,msg):\n",
    "        self.msg=msg\n",
    "def Validate(age):\n",
    "    if age<18:\n",
    "        raise License(\"Cannot Apply\")\n",
    "    elif age>80:\n",
    "        raise License(\"Sorry due to medical reason cannot apply\")\n",
    "    else:\n",
    "        print(\"You can Apply\")\n",
    "try:\n",
    "    age=int(input(\"Please enter age for License:\"))\n",
    "    Validate(age)\n",
    "except License as e:\n",
    "    print(e)"
   ]
  },
  {
   "cell_type": "code",
   "execution_count": null,
   "id": "0c008cce-f462-4c7e-ad61-4db7c0e52782",
   "metadata": {},
   "outputs": [],
   "source": []
  }
 ],
 "metadata": {
  "kernelspec": {
   "display_name": "Python 3 (ipykernel)",
   "language": "python",
   "name": "python3"
  },
  "language_info": {
   "codemirror_mode": {
    "name": "ipython",
    "version": 3
   },
   "file_extension": ".py",
   "mimetype": "text/x-python",
   "name": "python",
   "nbconvert_exporter": "python",
   "pygments_lexer": "ipython3",
   "version": "3.9.7"
  }
 },
 "nbformat": 4,
 "nbformat_minor": 5
}
