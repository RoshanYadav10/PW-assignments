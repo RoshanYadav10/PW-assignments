{
 "cells": [
  {
   "cell_type": "code",
   "execution_count": 1,
   "id": "133de8b5-1109-4e2f-ad9d-ac7fb036b71d",
   "metadata": {},
   "outputs": [
    {
     "name": "stdout",
     "output_type": "stream",
     "text": [
      "Mumbai\n",
      "female\n",
      "Teacher\n"
     ]
    }
   ],
   "source": [
    "# Q1. WHAT IS ABSTRACTION IN OOPS? EXPLAIN WITH AN EXAMPLE.\n",
    "# ANS:- Abstraction in python is defined as a process of handling complexity by hiding unnecessary information from the user. Example:-\n",
    "import abc\n",
    "class human:\n",
    "    @abc.abstractclassmethod\n",
    "    def gender():\n",
    "        pass\n",
    "    @abc.abstractclassmethod\n",
    "    def profession():\n",
    "        pass\n",
    "    @abc.abstractclassmethod\n",
    "    def city():\n",
    "        pass\n",
    "class teacher(human):\n",
    "    def gender(self):\n",
    "        return \"female\"\n",
    "    def profession(self):\n",
    "        return \"Teacher\"\n",
    "    def city(self):\n",
    "        return \"Mumbai\"\n",
    "h=teacher()\n",
    "print(h.city())\n",
    "print(h.gender())\n",
    "print(h.profession())\n"
   ]
  },
  {
   "cell_type": "code",
   "execution_count": 29,
   "id": "ba99ef98-9d22-4ec0-ba3a-9b39de970e79",
   "metadata": {},
   "outputs": [
    {
     "name": "stdout",
     "output_type": "stream",
     "text": [
      "The updated number is 20\n",
      "Triangle has 3 sides\n",
      "Square has 4 sides\n"
     ]
    }
   ],
   "source": [
    "# Q2. DIFFERENTIATE BETWEEN ABSTRACTION AND ENCAPSULATION. EXPLAIN WITH AN EXAMPLE.\n",
    "# ANS:- Encapsulation means storing or placing data in a single place to make it easily readable and compact in one place. \n",
    "#Whereas data abstraction in python programming means to hide internal functionalities that are performing on the application using codes\n",
    "#and to show only essential information (class attributes).\n",
    "#Encapsulation\n",
    "class Base:\n",
    "    def __init__(self,a):\n",
    "        self.__a=a\n",
    "        print(\"The updated number is\",+a)\n",
    "obj=Base(20)\n",
    "#Abstraction\n",
    "import abc\n",
    "class shape:\n",
    "    @abc.abstractclassmethod\n",
    "    def sides(self):\n",
    "        pass\n",
    "class triangle(shape):\n",
    "    def sides(self):\n",
    "        return \"Triangle has 3 sides\"\n",
    "class square(shape):\n",
    "    def sides(self):\n",
    "        return \"Square has 4 sides\"\n",
    "obj=triangle()\n",
    "obj1=square()\n",
    "print(obj.sides())\n",
    "print(obj1.sides())"
   ]
  },
  {
   "cell_type": "code",
   "execution_count": 30,
   "id": "98e54905-4dbe-405a-a917-5fb11bdd0619",
   "metadata": {},
   "outputs": [],
   "source": [
    "# Q3. WHAT IS ABC MODULE IN PYTHON? WHY IS IT USED?\n",
    "# ANS:- A class is called an Abstract class if it contains one or more abstract methods. \n",
    "# An abstract method is a method that is declared, but contains no implementation. \\\n",
    "# Abstract classes may not be instantiated, and its abstract methods must be implemented by its subclasses.\n"
   ]
  },
  {
   "cell_type": "code",
   "execution_count": 31,
   "id": "86cee629-48de-454b-b767-b30f675542ce",
   "metadata": {},
   "outputs": [],
   "source": [
    "# Q4. HOW CAN WE ACHIEVE DATA ABSTRACTION?\n",
    "# ANS:-Abstraction can be achieved using abstract classes and method in our program.\n"
   ]
  },
  {
   "cell_type": "code",
   "execution_count": null,
   "id": "c9d0b357-8734-48ad-b349-7fc8773fe9c5",
   "metadata": {},
   "outputs": [],
   "source": [
    "# Q5. CAN WE CREATE AN INSTANCE OF AN ABSTRACT CLASS? EXPLAIN YOUR ANSWER.\n",
    "# ANS:-No we cannot create instance of abstract class as there is no implementation of methods inside abstract class. \n"
   ]
  }
 ],
 "metadata": {
  "kernelspec": {
   "display_name": "Python 3 (ipykernel)",
   "language": "python",
   "name": "python3"
  },
  "language_info": {
   "codemirror_mode": {
    "name": "ipython",
    "version": 3
   },
   "file_extension": ".py",
   "mimetype": "text/x-python",
   "name": "python",
   "nbconvert_exporter": "python",
   "pygments_lexer": "ipython3",
   "version": "3.11.1"
  }
 },
 "nbformat": 4,
 "nbformat_minor": 5
}
