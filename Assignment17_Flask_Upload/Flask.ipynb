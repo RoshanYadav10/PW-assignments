{
 "cells": [
  {
   "cell_type": "code",
   "execution_count": null,
   "metadata": {},
   "outputs": [],
   "source": [
    "# Q1. What is Flask Framework? What are the advantages of Flask Framework?\n",
    "# Flask is a popular web framework written in Python. It is known for its simplicity and minimalistic design, allowing developers to build web applications quickly and efficiently. Here are some key aspects and advantages of the Flask framework:\n",
    "# Lightweight and Minimalistic: Flask is designed to be minimalistic, providing only the essential features for web development. \n",
    "# Easy to Get Started: Flask has a straightforward and intuitive API, making it accessible to developers of all skill levels\n",
    "# Flexible and Extensible: Flask allows developers to customize and extend its functionalities using various extensions or modules.\n",
    "# Integrated Development Server: Flask comes with a built-in development server, which is convenient for testing and debugging applications during the development phase. \n",
    "# Large and Supportive Community: Flask has a vibrant and active community of developers, which means there are many resources available for learning and troubleshooting."
   ]
  },
  {
   "cell_type": "code",
   "execution_count": 1,
   "metadata": {},
   "outputs": [],
   "source": [
    "# Q2. Create a simple Flask application to display ‘Hello World!!’. Attach the screenshot of the output in\n",
    "# Jupyter Notebook.\n",
    "from flask import Flask\n",
    "app=Flask(__name__)\n",
    "@app.route(\"/\")\n",
    "def Hello_World():\n",
    "    return \"Hello World!!\"\n",
    "if __name__==\"__main__\":\n",
    "    app.run(host=\"0.0.0.0\")"
   ]
  },
  {
   "cell_type": "markdown",
   "metadata": {},
   "source": [
    "<img src=\"Output1.png\" width=\"500\" height=\"500\">"
   ]
  },
  {
   "cell_type": "code",
   "execution_count": null,
   "metadata": {},
   "outputs": [],
   "source": [
    "# Q3. What is App routing in Flask? Why do we use app routes?\n",
    "# In Flask, app routing refers to the process of mapping URLs to specific functions or view handlers within your web application. It defines how different URLs or routes should be handled by the application, determining which code should be executed when a particular URL is requested.\n",
    "# Here are a few reasons why app routes are used in Flask:\n",
    "# Handling Different URLs: App routes allow you to define how different URLs should be processed by your Flask application. \n",
    "# Implementing Different HTTP Methods: HTTP defines various methods such as GET, POST, PUT, DELETE, etc., which represent different types of requests made to a web server.\n",
    "# Creating RESTful APIs: Flask is commonly used to build RESTful APIs, which expose data and functionality to client applications.  "
   ]
  },
  {
   "cell_type": "code",
   "execution_count": null,
   "metadata": {},
   "outputs": [],
   "source": [
    "# Q4. Create a “/welcome” route to display the welcome message “Welcome to ABC Corporation” and a “/”\n",
    "# route to show the following details:\n",
    "from flask import Flask\n",
    "app=Flask(__name__)\n",
    "@app.route(\"/welcome\")\n",
    "def welcome():\n",
    "    return \"Welcome to ABC Corporation\"\n",
    "@app.route(\"/\")\n",
    "def info():\n",
    "    return \"Company Name:ABC Corporation <br> Location:India <br> Contact Detail:999-999-999\"\n",
    "if __name__==\"__main__\":\n",
    "    app.run()"
   ]
  },
  {
   "cell_type": "markdown",
   "metadata": {},
   "source": [
    "<img src=\"Output2.png\" width=\"500\" height=\"500\">\n",
    "<img src=\"Output3.png\" width=\"500\" height=\"500\">"
   ]
  },
  {
   "cell_type": "code",
   "execution_count": 3,
   "metadata": {},
   "outputs": [
    {
     "name": "stdout",
     "output_type": "stream",
     "text": [
      " * Serving Flask app '__main__'\n",
      " * Debug mode: off\n"
     ]
    },
    {
     "name": "stderr",
     "output_type": "stream",
     "text": [
      "WARNING: This is a development server. Do not use it in a production deployment. Use a production WSGI server instead.\n",
      " * Running on http://127.0.0.1:5000\n",
      "Press CTRL+C to quit\n",
      "127.0.0.1 - - [05/Jul/2023 13:29:22] \"GET / HTTP/1.1\" 404 -\n",
      "127.0.0.1 - - [05/Jul/2023 13:29:22] \"GET /favicon.ico HTTP/1.1\" 404 -\n",
      "127.0.0.1 - - [05/Jul/2023 13:29:37] \"GET /admin HTTP/1.1\" 200 -\n"
     ]
    }
   ],
   "source": [
    "# Q5. What function is used in Flask for URL Building? Write a Python code to demonstrate the working of the\n",
    "# url_for() function.\n",
    "# In Flask, the url_for() function is used for URL building. It generates a URL for a given view function by taking into account the route associated with that function and any dynamic parameters it may require.\n",
    "from flask import *  \n",
    "   \n",
    "app = Flask(__name__)  \n",
    "  \n",
    "@app.route('/admin')  \n",
    "def admin():  \n",
    "    return 'admin'  \n",
    "  \n",
    "@app.route('/librarion')  \n",
    "def librarion():  \n",
    "    return 'librarion'  \n",
    "  \n",
    "@app.route('/student')  \n",
    "def student():  \n",
    "    return 'student'  \n",
    "  \n",
    "@app.route('/user/<name>')  \n",
    "def user(name):  \n",
    "    if name == 'admin':  \n",
    "        return redirect(url_for('admin'))  \n",
    "    if name == 'librarion':  \n",
    "        return redirect(url_for('librarion'))  \n",
    "    if name == 'student':  \n",
    "        return redirect(url_for('student'))  \n",
    "if __name__ =='__main__':  \n",
    "    app.run()  \n"
   ]
  },
  {
   "cell_type": "code",
   "execution_count": null,
   "metadata": {},
   "outputs": [],
   "source": []
  },
  {
   "cell_type": "code",
   "execution_count": null,
   "metadata": {},
   "outputs": [],
   "source": []
  }
 ],
 "metadata": {
  "kernelspec": {
   "display_name": "Python 3 (ipykernel)",
   "language": "python",
   "name": "python3"
  },
  "language_info": {
   "codemirror_mode": {
    "name": "ipython",
    "version": 3
   },
   "file_extension": ".py",
   "mimetype": "text/x-python",
   "name": "python",
   "nbconvert_exporter": "python",
   "pygments_lexer": "ipython3",
   "version": "3.9.7"
  }
 },
 "nbformat": 4,
 "nbformat_minor": 4
}
