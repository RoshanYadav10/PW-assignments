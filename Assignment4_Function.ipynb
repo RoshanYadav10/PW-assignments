{
 "cells": [
  {
   "cell_type": "code",
   "execution_count": 12,
   "id": "d0775900-304d-47f5-82b0-7ed42726bf8e",
   "metadata": {},
   "outputs": [
    {
     "data": {
      "text/plain": [
       "[1, 3, 5, 7, 9, 11, 13, 15, 17, 19, 21, 23, 25]"
      ]
     },
     "execution_count": 12,
     "metadata": {},
     "output_type": "execute_result"
    }
   ],
   "source": [
    "#Q1]Which keyword is used to create a function? Create a function to return a list of odd numbers in the range of 1 to 25.\n",
    "#Ans:-def keyword is used to create function.Example:-\n",
    "odd=[]\n",
    "def odd_num(x):\n",
    "    for i in x:\n",
    "        if i%2!=0:\n",
    "            odd.append(i)\n",
    "        else:\n",
    "            continue\n",
    "l=[]\n",
    "for i in range(0,26):\n",
    "    l.append(i)\n",
    "odd_num(l)\n",
    "odd"
   ]
  },
  {
   "cell_type": "code",
   "execution_count": 31,
   "id": "374aebcc-017e-4017-ad93-150c040f285d",
   "metadata": {},
   "outputs": [
    {
     "name": "stdout",
     "output_type": "stream",
     "text": [
      "[1, 2, 3, 4, 5, 6]\n",
      "first == Jaikishen\n",
      "mid == Manoj\n",
      "last == Mishra\n"
     ]
    }
   ],
   "source": [
    "#Q2]Why *args and **kwargs is used in some functions? Create a function each for *args and **kwargs to demonstrate their use.\n",
    "#Ans:-*args are used to take variable number of argument.\n",
    "def test(*args):\n",
    "    for i in args:\n",
    "        print(i)\n",
    "arg=[1,2,3,4,5,6]\n",
    "test(args)\n",
    "#**kwargs is used to take variable number of keyworded arguments\n",
    "def myFun(**kwargs):\n",
    "    for key, value in kwargs.items():\n",
    "        print(\"%s == %s\" % (key, value))\n",
    "myFun(first='Jaikishen', mid='Manoj', last='Mishra')"
   ]
  },
  {
   "cell_type": "code",
   "execution_count": 45,
   "id": "72f1184d-7ef8-44d0-b57c-53105948b004",
   "metadata": {},
   "outputs": [
    {
     "name": "stdout",
     "output_type": "stream",
     "text": [
      "2\n",
      "4\n",
      "6\n",
      "8\n",
      "10\n"
     ]
    }
   ],
   "source": [
    "#Q3]What is an iterator in python? Name the method used to initialise the iterator object and the method\n",
    "#used for iteration. Use these methods to print the first five elements of the given list [2, 4, 6, 8, 10, 12, 14,\n",
    "#16, 18, 20].\n",
    "#Ans:-Iterator is an object that is used to iterate over iterable objects.\n",
    "s=[2,4,6,8,10,12,14,16,18,20]\n",
    "s1=iter(s)\n",
    "print(next(s1))\n",
    "print(next(s1))\n",
    "print(next(s1))\n",
    "print(next(s1))\n",
    "print(next(s1))"
   ]
  },
  {
   "cell_type": "code",
   "execution_count": 66,
   "id": "dcd6add0-8207-44bf-9189-921a0f129caa",
   "metadata": {},
   "outputs": [
    {
     "name": "stdout",
     "output_type": "stream",
     "text": [
      "1\n",
      "2\n",
      "3\n",
      "4\n",
      "5\n",
      "6\n",
      "7\n",
      "8\n",
      "9\n",
      "10\n",
      "11\n",
      "12\n",
      "13\n",
      "14\n",
      "15\n",
      "16\n",
      "17\n",
      "18\n",
      "19\n",
      "20\n"
     ]
    }
   ],
   "source": [
    "#Q4]What is a generator function in python? Why yield keyword is used? Give an example of a generator function.\n",
    "#Ans:-A generator-function is defined like a normal function, but whenever it needs to generate a value, it does so with the yield keyword rather than return. If the body of a def contains yield, the function automatically becomes a generator function. \n",
    "def natural(limit):\n",
    "    a=1\n",
    "    while a<=limit:\n",
    "        yield a\n",
    "        a=a+1\n",
    "a=natural(20)\n",
    "for i in a:\n",
    "    print(i)"
   ]
  },
  {
   "cell_type": "code",
   "execution_count": 89,
   "id": "0b112dc1-37b4-4843-8364-b6d8778d9c0f",
   "metadata": {},
   "outputs": [
    {
     "name": "stdout",
     "output_type": "stream",
     "text": [
      "3\n",
      "5\n",
      "7\n",
      "11\n",
      "13\n",
      "17\n",
      "19\n",
      "23\n",
      "29\n",
      "31\n",
      "37\n",
      "41\n",
      "43\n",
      "47\n",
      "53\n",
      "59\n",
      "61\n",
      "67\n",
      "71\n",
      "73\n"
     ]
    }
   ],
   "source": [
    "#Q5. Create a generator function for prime numbers less than 1000. Use the next() method to print the\n",
    "#first 20 prime numbers.\n",
    "#Ans:-\n",
    "def prime():\n",
    "    for Number in range (1, 1001):\n",
    "        count = 0\n",
    "        for i in range(2, (Number//2 + 1)):\n",
    "            if(Number % i == 0):\n",
    "                count = count + 1\n",
    "                break\n",
    "\n",
    "        if (count == 0 and Number != 1):\n",
    "            yield Number\n",
    "a=prime()\n",
    "flag=0\n",
    "for i in a:\n",
    "    flag=flag+1\n",
    "    while flag<=20:\n",
    "        flag=flag+1\n",
    "        print(next(a))"
   ]
  },
  {
   "cell_type": "code",
   "execution_count": 18,
   "id": "ec475276-a090-404b-bb10-2634bf5cc992",
   "metadata": {},
   "outputs": [
    {
     "name": "stdout",
     "output_type": "stream",
     "text": [
      "0\n",
      "1\n",
      "1\n",
      "2\n",
      "3\n",
      "5\n",
      "8\n",
      "13\n",
      "21\n",
      "34\n"
     ]
    }
   ],
   "source": [
    "#Q6]Write a python program to print the first 10 Fibonacci numbers using a while loop.\n",
    "#Ans:-\n",
    "a,b=0,1\n",
    "num=1\n",
    "while num<=10:\n",
    "    print(a)\n",
    "    a,b=b,a+b\n",
    "    num=num+1\n"
   ]
  },
  {
   "cell_type": "code",
   "execution_count": 3,
   "id": "662db440-76f2-4565-bc1f-e97a5c1f3164",
   "metadata": {},
   "outputs": [
    {
     "data": {
      "text/plain": [
       "['p', 'w', 's', 'k', 'i', 'l', 'l', 's']"
      ]
     },
     "execution_count": 3,
     "metadata": {},
     "output_type": "execute_result"
    }
   ],
   "source": [
    "#Q7]Write a List Comprehension to iterate through the given string: ‘pwskills’.\n",
    "#Expected output: ['p', 'w', 's', 'k', 'i', 'l', 'l', 's']\n",
    "#Ans:-\n",
    "sen=\"pwskills\"\n",
    "ans=[i for i in sen]\n",
    "ans"
   ]
  },
  {
   "cell_type": "code",
   "execution_count": 13,
   "id": "de2b4260-a349-4d59-b8e2-fc885846fedb",
   "metadata": {},
   "outputs": [
    {
     "name": "stdin",
     "output_type": "stream",
     "text": [
      "Please enter a number 303\n"
     ]
    },
    {
     "name": "stdout",
     "output_type": "stream",
     "text": [
      "303\n",
      "Palindrome\n"
     ]
    }
   ],
   "source": [
    "#Q8]Write a python program to check whether a given number is Palindrome or not using a while loop.\n",
    "#Ans:-\n",
    "a=int(input(\"Please enter a number\"))\n",
    "temp=a\n",
    "rem=0\n",
    "rev=0\n",
    "while a>0:\n",
    "    rem=a%10\n",
    "    rev=rev*10+rem\n",
    "    a//=10\n",
    "print(rev)\n",
    "if(rev==temp):\n",
    "    print(\"Palindrome\")\n",
    "else:\n",
    "    print(\"Non Palindrome\")"
   ]
  },
  {
   "cell_type": "code",
   "execution_count": 22,
   "id": "f6528ef1-f426-401a-b2f4-dab4a932daa8",
   "metadata": {},
   "outputs": [
    {
     "name": "stdout",
     "output_type": "stream",
     "text": [
      "[1, 3, 5, 7, 9, 11, 13, 15, 17, 19, 21, 23, 25, 27, 29, 31, 33, 35, 37, 39, 41, 43, 45, 47, 49, 51, 53, 55, 57, 59, 61, 63, 65, 67, 69, 71, 73, 75, 77, 79, 81, 83, 85, 87, 89, 91, 93, 95, 97, 99]\n"
     ]
    }
   ],
   "source": [
    "#Q9]Write a code to print odd numbers from 1 to 100 using list comprehension.\n",
    "#Ans:-\n",
    "num=[i for i in range(100)]\n",
    "odd=[i for i in num if i%2!=0]\n",
    "print(odd)"
   ]
  },
  {
   "cell_type": "code",
   "execution_count": null,
   "id": "4066c6fb-c928-4d40-8216-74946a53d4d1",
   "metadata": {},
   "outputs": [],
   "source": []
  }
 ],
 "metadata": {
  "kernelspec": {
   "display_name": "Python 3 (ipykernel)",
   "language": "python",
   "name": "python3"
  },
  "language_info": {
   "codemirror_mode": {
    "name": "ipython",
    "version": 3
   },
   "file_extension": ".py",
   "mimetype": "text/x-python",
   "name": "python",
   "nbconvert_exporter": "python",
   "pygments_lexer": "ipython3",
   "version": "3.11.1"
  }
 },
 "nbformat": 4,
 "nbformat_minor": 5
}
