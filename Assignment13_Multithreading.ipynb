{
 "cells": [
  {
   "cell_type": "code",
   "execution_count": 1,
   "id": "a7950405-03cc-487c-8526-339fd0123b44",
   "metadata": {},
   "outputs": [],
   "source": [
    "#Q1.What is multithreading in python? why is it used? Name the module used to handle threads in python?\n",
    "#Ans:-\n",
    "# Multithreading in Python refers to the ability of a program to execute multiple threads concurrently within a single process.A thread is a separate \n",
    "# flow of execution within a program. Multithreading is used in Python to achieve parallelism, where multiple tasks can be executed simultaneously, taking\n",
    "# advantage of modern multi-core processors.The threading module is commonly used in Python to handle threads."
   ]
  },
  {
   "cell_type": "code",
   "execution_count": 2,
   "id": "1f11a9db-e5a9-48fb-a8e3-1e1ae8fbccaa",
   "metadata": {},
   "outputs": [
    {
     "name": "stdout",
     "output_type": "stream",
     "text": [
      "Thread started: Thread-8\n",
      "Thread started: Thread-9\n",
      "Thread started: Thread-10\n",
      "Thread started: Thread started: Thread-12\n",
      "Thread-11\n",
      "Active threads: 6\n",
      "Current thread: MainThread\n",
      "All threads:\n",
      "MainThread\n",
      "Thread-6\n",
      "Thread-7\n",
      "Thread-5\n",
      "IPythonHistorySavingThread\n",
      "Thread-4\n"
     ]
    }
   ],
   "source": [
    "#Q2.Why threading module used?rite the use of the following functions\n",
    "#The threading module in Python is used for creating and managing threads.\n",
    "# activeCount(): This function is used to retrieve the number of Thread objects currently alive.\n",
    "# currentThread(): This function returns a reference to the current Thread object corresponding to the caller's thread of control.\n",
    "# enumerate(): This function returns a list of all Thread objects currently alive.\n",
    "import threading\n",
    "\n",
    "def worker():\n",
    "    print(\"Thread started:\", threading.currentThread().getName())\n",
    "\n",
    "# Create multiple threads\n",
    "threads = []\n",
    "for i in range(5):\n",
    "    t = threading.Thread(target=worker)\n",
    "    threads.append(t)\n",
    "    t.start()\n",
    "\n",
    "# Wait for all threads to complete\n",
    "for t in threads:\n",
    "    t.join()\n",
    "\n",
    "# Retrieve the number of active threads\n",
    "active_count = threading.activeCount()\n",
    "print(\"Active threads:\", active_count)\n",
    "\n",
    "# Retrieve the current thread\n",
    "current_thread = threading.currentThread()\n",
    "print(\"Current thread:\", current_thread.getName())\n",
    "\n",
    "# Enumerate all threads\n",
    "all_threads = threading.enumerate()\n",
    "print(\"All threads:\")\n",
    "for thread in all_threads:\n",
    "    print(thread.getName())\n"
   ]
  },
  {
   "cell_type": "code",
   "execution_count": 5,
   "id": "5ef14fbd-6370-4c49-a55a-a0a11140fd10",
   "metadata": {},
   "outputs": [
    {
     "name": "stdout",
     "output_type": "stream",
     "text": [
      "Thread started:Is thread alive? Thread-15\n",
      " True\n",
      "Thread finished: Thread-15\n",
      "Is thread alive? False\n"
     ]
    }
   ],
   "source": [
    "#3. Explain the following functions?\n",
    "#Ans:-\n",
    "# run(): The run() function is the entry point for the thread's activity.\n",
    "# start(): The start() function is used to start the execution of a thread.\n",
    "# join(): The join() function is used to wait for a thread to complete its execution. \n",
    "# isAlive(): The isAlive() function is used to check whether a thread is still alive or has completed its execution. \n",
    "import threading\n",
    "import time\n",
    "\n",
    "def worker():\n",
    "    print(\"Thread started:\", threading.currentThread().getName())\n",
    "    time.sleep(2)\n",
    "    print(\"Thread finished:\", threading.currentThread().getName())\n",
    "\n",
    "# Create a thread\n",
    "t = threading.Thread(target=worker)\n",
    "\n",
    "# Start the thread\n",
    "t.start()\n",
    "\n",
    "# Check if the thread is alive\n",
    "print(\"Is thread alive?\", t.is_alive())\n",
    "\n",
    "# Wait for the thread to finish\n",
    "t.join()\n",
    "\n",
    "# Check if the thread is alive after join\n",
    "print(\"Is thread alive?\", t.is_alive())\n"
   ]
  },
  {
   "cell_type": "code",
   "execution_count": 6,
   "id": "648cf49d-ef9c-475e-860b-8d0b1e5f3f60",
   "metadata": {},
   "outputs": [
    {
     "name": "stdout",
     "output_type": "stream",
     "text": [
      "Square of 1: 1\n",
      "Square of 2: 4\n",
      "Square of 3: 9\n",
      "Square of 4: 16\n",
      "Square of 5: 25\n",
      "Square of 6: 36\n",
      "Square of 7: 49\n",
      "Square of 8: 64\n",
      "Square of 9: 81\n",
      "Square of 10: 100\n",
      "Cube of 1: 1\n",
      "Cube of 2: 8\n",
      "Cube of 3: 27\n",
      "Cube of 4: 64\n",
      "Cube of 5: 125\n",
      "Cube of 6: 216\n",
      "Cube of 7: 343\n",
      "Cube of 8: 512\n",
      "Cube of 9: 729\n",
      "Cube of 10: 1000\n",
      "Threads execution completed.\n"
     ]
    }
   ],
   "source": [
    "#4.Write a python program to create two threads. Thread one must print the list of squares and thread two must print the list of cubes\n",
    "#Ans:-\n",
    "import threading\n",
    "\n",
    "def print_squares():\n",
    "    for i in range(1, 11):\n",
    "        square = i * i\n",
    "        print(f\"Square of {i}: {square}\")\n",
    "\n",
    "def print_cubes():\n",
    "    for i in range(1, 11):\n",
    "        cube = i ** 3\n",
    "        print(f\"Cube of {i}: {cube}\")\n",
    "\n",
    "# Create the first thread for printing squares\n",
    "thread1 = threading.Thread(target=print_squares)\n",
    "\n",
    "# Create the second thread for printing cubes\n",
    "thread2 = threading.Thread(target=print_cubes)\n",
    "\n",
    "# Start both threads\n",
    "thread1.start()\n",
    "thread2.start()\n",
    "\n",
    "# Wait for both threads to finish\n",
    "thread1.join()\n",
    "thread2.join()\n",
    "\n",
    "print(\"Threads execution completed.\")\n"
   ]
  },
  {
   "cell_type": "code",
   "execution_count": null,
   "id": "9f2e7516-34a7-4b10-8966-17ebffe3a023",
   "metadata": {},
   "outputs": [],
   "source": [
    "#5. State advantages and disadvantages of multithreading\n",
    "#Ans:-\n",
    "#Advantages of Multithreading:\n",
    "# Concurrent Execution: Multithreading allows multiple tasks to be executed concurrently within a single process. \n",
    "# Responsiveness: Multithreading can enhance the responsiveness of an application by keeping the user interface (UI) thread separate from \n",
    "# time-consuming tasks.\n",
    "# Resource Sharing: Threads within a process can share memory and resources, which facilitates efficient communication and data\n",
    "# sharing between different parts of a program. \n",
    "# Disadvantages of Multithreading:\n",
    "# Complexity: Multithreaded programming introduces complexity due to issues like thread synchronization, resource sharing, and thread safety.\n",
    "# Debugging and Testing: Identifying and debugging issues in multithreaded programs can be more challenging compared to single-threaded ones. "
   ]
  }
 ],
 "metadata": {
  "kernelspec": {
   "display_name": "Python 3 (ipykernel)",
   "language": "python",
   "name": "python3"
  },
  "language_info": {
   "codemirror_mode": {
    "name": "ipython",
    "version": 3
   },
   "file_extension": ".py",
   "mimetype": "text/x-python",
   "name": "python",
   "nbconvert_exporter": "python",
   "pygments_lexer": "ipython3",
   "version": "3.9.7"
  }
 },
 "nbformat": 4,
 "nbformat_minor": 5
}
