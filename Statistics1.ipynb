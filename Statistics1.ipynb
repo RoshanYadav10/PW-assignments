{
 "cells": [
  {
   "cell_type": "code",
   "execution_count": null,
   "metadata": {},
   "outputs": [],
   "source": [
    "# # Q1. What is Statistics?\n",
    "# Statistics refers to the field of study that involves the collection, analysis, interpretation, presentation, and organization of data. \n",
    "# It is both a branch of mathematics and a methodological approach that plays a crucial role in various disciplines, including science, \n",
    "# social science, business, economics, and more."
   ]
  },
  {
   "cell_type": "code",
   "execution_count": null,
   "metadata": {},
   "outputs": [],
   "source": [
    "# # Q2. Define the different types of statistics and give an example of when each type might be used.\n",
    "# 1]Descriptive Statistics:\n",
    "# Descriptive statistics involve methods for summarizing and presenting data in a meaningful and concise manner.\n",
    "#  They help to provide a clear overview of the main characteristics of a dataset. \n",
    "# Example: Imagine you have collected data on the ages of a group of people attending a conference. You calculate the mean (average) age, \n",
    "# median (middle value), and standard deviation (measure of spread) of the ages. These descriptive statistics provide insights into the typical\n",
    "#  age of attendees and how much the ages vary from the average.\n",
    "\n",
    "# 2]Inferential statistics involve drawing conclusions or making predictions about a larger population based on a sample of data. \n",
    "# These methods help researchers generalize findings from a smaller sample to a larger population and assess the likelihood of those findings\n",
    "#  being accurate.\n",
    "# Example: A pharmaceutical company wants to determine the effectiveness of a new drug for a specific medical condition. They conduct a clinical\n",
    "#  trial with a sample of patients and measure the improvement in their symptoms. By applying inferential statistics, they can estimate the \n",
    "#  likelihood that the observed improvements in the sample are representative of what would happen if the drug were given to the entire population\n",
    "#   of patients with that medical condition."
   ]
  },
  {
   "cell_type": "code",
   "execution_count": null,
   "metadata": {},
   "outputs": [],
   "source": [
    "# # Q3. What are the different types of data and how do they differ from each other? Provide an example of\n",
    "# # each type of data.\n",
    "\n",
    "# Nominal Data:\n",
    "# Nominal data represent categories or labels without any inherent order or ranking. These categories are distinct and non-numeric. Nominal data can't\n",
    "#  be subjected to mathematical operations like addition or subtraction.\n",
    "# Example: Colors of cars in a parking lot (red, blue, green, etc.). Each color is a category, but there's no inherent order or numerical value \n",
    "# associated with them.\n",
    "\n",
    "# Ordinal Data:\n",
    "# Ordinal data also represent categories, but they have a meaningful order or ranking. However, the intervals between values are not consistent, \n",
    "# and the differences between ranks may not be uniform. You can say one value is greater than another, but you can't quantify how much greater.\n",
    "# Example: Educational levels (elementary, high school, bachelor's, master's, etc.). While there's a clear ranking, the difference between high \n",
    "# school and bachelor's degree might not be the same as the difference between master's and doctoral degrees.\n",
    "\n",
    "# Interval Data:\n",
    "# Interval data have a meaningful order, and the intervals between values are consistent and meaningful. However, there is no true zero point, \n",
    "# and you can't perform multiplication or division operations.\n",
    "# Example: Celsius temperature scale. The difference between 20°C and 30°C is the same as the difference between 30°C and 40°C, but you can't \n",
    "# say that 40°C is twice as hot as 20°C.\n",
    "\n",
    "# Ratio Data:\n",
    "# Ratio data have a meaningful order, consistent intervals, and a true zero point, allowing for meaningful multiplication and division operations.\n",
    "# Example: Height, weight, income. A weight of 60 kg is twice as heavy as 30 kg, and an income of Rs1000 is five times larger than Rs200."
   ]
  },
  {
   "cell_type": "code",
   "execution_count": null,
   "metadata": {},
   "outputs": [],
   "source": [
    "# Q4. Categorise the following datasets with respect to quantitative and qualitative data types:\n",
    "# (i) Grading in exam: A+, A, B+, B, C+, C, D, E\n",
    "# (ii) Colour of mangoes: yellow, green, orange, red\n",
    "# (iii) Height data of a class: [178.9, 179, 179.5, 176, 177.2, 178.3, 175.8,...]\n",
    "# (iv) Number of mangoes exported by a farm: [500, 600, 478, 672, ...]\n",
    "#Ans:-\n",
    "\n",
    "#Qualitative Data:-(i) Grading in exam: A+, A, B+, B, C+, C, D, E\n",
    "# (ii) Colour of mangoes: yellow, green, orange, red\n",
    "\n",
    "#Quantitative Data:-(iii) Height data of a class: [178.9, 179, 179.5, 176, 177.2, 178.3, 175.8,...]\n",
    "# (iv) Number of mangoes exported by a farm: [500, 600, 478, 672, ...]"
   ]
  },
  {
   "cell_type": "code",
   "execution_count": null,
   "metadata": {},
   "outputs": [],
   "source": [
    "# # Q5. Explain the concept of levels of measurement and give an example of a variable for each level.\n",
    "\n",
    "# Nominal Level:\n",
    "# At the nominal level, variables are categorized into distinct, non-ordered categories or labels. These categories do not have any inherent\n",
    "#  numerical value or meaningful order.\n",
    "# Example: Eye colors (blue, brown, green) – Each color is a distinct category without any inherent order or numerical value.\n",
    "\n",
    "# Ordinal Level:\n",
    "# At the ordinal level, variables have categories with a meaningful order or ranking. However, the intervals between the categories may not \n",
    "# be consistent or quantifiable.\n",
    "# Example: Education levels (high school, bachelor's, master's, doctorate) – There's a clear order, but the difference between educational \n",
    "# levels might not be uniform.\n",
    "\n",
    "# Interval Level:\n",
    "# At the interval level, variables have categories with a meaningful order, consistent intervals, but no true zero point. This means that ratios\n",
    "#  and meaningful multiplication/division operations are not applicable.\n",
    "# Example: Temperature in Celsius – The differences between degrees are consistent, but you can't say that 20°C is twice as hot as 10°C.\n",
    "\n",
    "# Ratio Level:\n",
    "# At the ratio level, variables have categories with a meaningful order, consistent intervals, and a true zero point. This allows for meaningful\n",
    "#  ratios and arithmetic operations.\n",
    "# Example: Height, weight, income – A height of 180 cm is twice as tall as 90 cm, and an income of $1000 is twice as much as $500."
   ]
  },
  {
   "cell_type": "code",
   "execution_count": null,
   "metadata": {},
   "outputs": [],
   "source": [
    "# # Q6. Why is it important to understand the level of measurement when analyzing data? Provide an\n",
    "# # example to illustrate your answer.\n",
    "\n",
    "# Understanding the level of measurement of variables is crucial when analyzing data because it determines the types of statistical analyses and \n",
    "# operations that can be appropriately applied to the data. Different levels of measurement have specific properties and limitations, and using an \n",
    "# inappropriate statistical method can lead to incorrect conclusions or misinterpretations of the results"
   ]
  },
  {
   "cell_type": "code",
   "execution_count": null,
   "metadata": {},
   "outputs": [],
   "source": [
    "# Q7. How nominal data type is different from ordinal data type.\n",
    "\n",
    "# Nominal Data:\n",
    "\n",
    "# Nominal data represent categories or labels without any inherent order or ranking.\n",
    "# The categories are distinct and non-numeric.\n",
    "# Nominal data can be used to categorize items into different groups.\n",
    "# Arithmetic operations like addition, subtraction, multiplication, or division are not meaningful for nominal data.\n",
    "# Examples of nominal data include gender (male, female), eye color (blue, brown, green), and types of fruits (apple, banana, orange).\n",
    "\n",
    "# Ordinal Data:\n",
    "\n",
    "# Ordinal data also represent categories, but they have a meaningful order or ranking.\n",
    "# While the categories have an order, the intervals between them may not be consistent or quantifiable.\n",
    "# Ordinal data convey more information than nominal data because they indicate relative positions or preferences.\n",
    "# Arithmetic operations are not generally applicable to ordinal data due to the potential lack of consistent interval sizes.\n",
    "# Examples of ordinal data include education levels (elementary, high school, bachelor's, master's), survey responses (strongly agree, agree,\n",
    "#  neutral, disagree, strongly disagree), and customer satisfaction ratings (very satisfied, satisfied, neutral, dissatisfied, very dissatisfied).\n"
   ]
  },
  {
   "cell_type": "code",
   "execution_count": null,
   "metadata": {},
   "outputs": [],
   "source": [
    "# Q8. Which type of plot can be used to display data in terms of range?\n",
    "\n",
    "# A box plot, also known as a box-and-whisker plot, is commonly used to display data in terms of its range, variability, and distribution. \n",
    "# Box plots provide a visual representation of the five-number summary of a dataset: minimum, first quartile (25th percentile), \n",
    "# median (50th percentile), third quartile (75th percentile), and maximum."
   ]
  },
  {
   "cell_type": "code",
   "execution_count": 1,
   "metadata": {},
   "outputs": [],
   "source": [
    "# # # Q9. Describe the difference between descriptive and inferential statistics. Give an example of each\n",
    "# # # type of statistics and explain how they are used.\n",
    "\n",
    "# # Descriptive Statistics:\n",
    "# # Descriptive statistics involve methods for summarizing, organizing, and presenting data in a meaningful and concise manner. These statistics \n",
    "# # provide a clear overview of the main characteristics of a dataset, helping to understand its central tendency, dispersion, and distribution. \n",
    "# # Descriptive statistics do not involve making inferences beyond the data at hand; their purpose is to describe what the data shows.\n",
    "\n",
    "# # Example: Suppose you have collected the ages of students in a classroom: 18, 20, 19, 22, 21. Descriptive statistics for this dataset would include\n",
    "# #  calculating the mean (average) age (20 years), the median (middle value) age (20 years), and the standard deviation (a measure of how much the \n",
    "# #  ages vary from the mean).\n",
    "\n",
    "# Inferential Statistics:\n",
    "# Inferential statistics, on the other hand, involve drawing conclusions or making predictions about a larger population based on a sample of data. \n",
    "# These statistics allow researchers to generalize findings from a smaller subset (sample) to a larger group (population) and to assess the \n",
    "# likelihood of the findings being accurate.\n",
    "\n",
    "# Example: Imagine you want to estimate the average height of all students in a school using a sample of 50 students. You calculate the average \n",
    "# height of the sample and then use inferential statistics to estimate the range within which the average height of the entire school's student\n",
    "#  population likely falls. This estimation involves measures like confidence intervals and hypothesis testing."
   ]
  },
  {
   "cell_type": "markdown",
   "metadata": {},
   "source": []
  },
  {
   "cell_type": "code",
   "execution_count": null,
   "metadata": {},
   "outputs": [],
   "source": [
    "# #Q10. What are some common measures of central tendency and variability used in statistics? Explain\n",
    "# how each measure can be used to describe a dataset. \n",
    "\n",
    "# Measures of Central Tendency:\n",
    "# These measures give an idea of the central or typical value of a dataset.\n",
    "\n",
    "# Mean: The mean is the average value of a dataset. It is calculated by summing up all the values and then dividing by the number of values.\n",
    "\n",
    "# Median: The median is the middle value in a sorted dataset. It divides the data into two halves, with half the values above and half below.\n",
    "\n",
    "# Mode: The mode is the value that appears most frequently in a dataset.\n",
    "\n",
    "# Measures of Variability:\n",
    "# These measures describe how spread out or dispersed the values in a dataset are.\n",
    "\n",
    "# Range: The range is the difference between the maximum and minimum values in a dataset. It gives an idea of how much the values spread out.\n",
    "\n",
    "# Variance: Variance measures the average squared difference between each data point and the mean. It provides a sense of how much the individual values deviate from the mean.\n",
    "\n",
    "# Standard Deviation: The standard deviation is the square root of the variance. It measures the average amount by which values in a dataset differ from the mean. A larger standard deviation indicates greater variability. \n"
   ]
  }
 ],
 "metadata": {
  "kernelspec": {
   "display_name": "Python 3",
   "language": "python",
   "name": "python3"
  },
  "language_info": {
   "codemirror_mode": {
    "name": "ipython",
    "version": 3
   },
   "file_extension": ".py",
   "mimetype": "text/x-python",
   "name": "python",
   "nbconvert_exporter": "python",
   "pygments_lexer": "ipython3",
   "version": "3.11.4"
  },
  "orig_nbformat": 4
 },
 "nbformat": 4,
 "nbformat_minor": 2
}
