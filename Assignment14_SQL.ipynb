{
 "cells": [
  {
   "cell_type": "code",
   "execution_count": 2,
   "metadata": {},
   "outputs": [],
   "source": [
    "# Q1. What is a database? Differentiate between SQL and NoSQL databases.\n",
    "#  A database is an organized collection of data . It provides a structured way to store, retrieve, and manipulate data efficiently. Databases are widely used in various applications and industries to handle large amounts of information.\n",
    "# SQL Databases:\n",
    "# 1.SQL databases are based on the relational data model. \n",
    "# 2.They use SQL as the standard language for defining, manipulating, and querying the data. \n",
    "# 3.SQL databases enforce strict data consistency and integrity through features like ACID \n",
    "# 4.Examples of SQL databases include MySQL, PostgreSQL, Oracle Database\n",
    "# NOSQL Databases:\n",
    "# 1.NoSQL databases encompass a variety of data models and are designed to handle large volumes of unstructured or semi-structured data.\n",
    "# 2.They provide flexible schemas, allowing for dynamic changes to the data structure without requiring a predefined schema.\n",
    "# 3.NoSQL databases use different data models like key-value, document, columnar, or graph, depending on the specific database system.\n",
    "# 4.Examples of NoSQL databases include MongoDB, Cassandra, CouchDB, Redis"
   ]
  },
  {
   "cell_type": "code",
   "execution_count": null,
   "metadata": {},
   "outputs": [],
   "source": [
    "# Q2. What is DDL? Explain why CREATE, DROP, ALTER, and TRUNCATE are used with an example.\n",
    "# DDL stands for Data Definition Language, which is a subset of SQL (Structured Query Language) used to define and manage the structure of a database. DDL commands are used to create, modify, and delete database objects such as tables, indexes, and views.\n",
    "\n",
    "# CREATE:\n",
    "# The CREATE command is used to create new database objects, such as tables, views, indexes, etc\n",
    "# Example:\n",
    "# CREATE TABLE books (\n",
    "#   book_id INT PRIMARY KEY,\n",
    "#   title VARCHAR(100) NOT NULL,\n",
    "#   author VARCHAR(50) NOT NULL,\n",
    "#   publication_year INT\n",
    "# );\n",
    "# DROP:\n",
    "# The DROP command is used to remove existing database objects, such as tables or indexes, from the database.\n",
    "# Example:\n",
    "# DROP TABLE books;\n",
    "# ALTER:\n",
    "# The ALTER command is used to modify the structure of an existing database object, such as adding or removing columns from a table or changing the data type of a column.\n",
    "# Example:\n",
    "# ALTER TABLE books\n",
    "# ADD genre VARCHAR(50);\n",
    "# TRUNCATE:\n",
    "# The TRUNCATE command is used to remove all the data from a table, but the table structure remains intact.\n",
    "# Example:\n",
    "# TRUNCATE TABLE books;\n"
   ]
  },
  {
   "cell_type": "code",
   "execution_count": 4,
   "metadata": {},
   "outputs": [],
   "source": [
    "# Q3. What is DML? Explain INSERT, UPDATE, and DELETE with an example.\n",
    "# DML stands for Data Manipulation Language, which is a subset of SQL (Structured Query Language) used to manipulate or modify the data within a database. \n",
    "# INSERT:\n",
    "# The INSERT command is used to add new records into a table. It allows you to specify the values for each column or insert data from another table.\n",
    "# Example:\n",
    "# INSERT INTO employees (employee_id, first_name, last_name, salary)\n",
    "# VALUES (1, 'John', 'Doe', 5000);\n",
    "# UPDATE:\n",
    "# The UPDATE command is used to modify existing records in a table. It allows you to update specific columns with new values based on certain conditions.\n",
    "# Example:\n",
    "# UPDATE employees\n",
    "# SET salary = 6000\n",
    "# WHERE employee_id = 1;\n",
    "# DELETE:\n",
    "# The DELETE command is used to remove records from a table. It allows you to delete specific rows based on certain conditions.\n",
    "# Example:\n",
    "# DELETE FROM employees\n",
    "# WHERE salary < 5000;\n",
    "\n"
   ]
  },
  {
   "cell_type": "code",
   "execution_count": 5,
   "metadata": {},
   "outputs": [],
   "source": [
    "# Q4. What is DQL? Explain SELECT with an example.\n",
    "# DQL stands for Data Query Language, which is a subset of SQL (Structured Query Language) used to retrieve or query data from a database. \n",
    "# Example:\n",
    "# SELECT * FROM students;\n"
   ]
  },
  {
   "cell_type": "code",
   "execution_count": null,
   "metadata": {},
   "outputs": [],
   "source": [
    "# Q5. Explain Primary Key and Foreign Key.\n",
    "# Primary Key:\n",
    "# A primary key is a column or a set of columns in a database table that uniquely identifies each record or row in that table. It serves as a unique identifier and ensures the integrity and uniqueness of the data within the table. Here are some key points about primary keys:\n",
    "# Foreign Key:\n",
    "# A foreign key is a column or a set of columns in a database table that establishes a link or relationship between two tables. It references the primary key of another table and helps enforce referential integrity. Here are some key points about foreign keys:"
   ]
  },
  {
   "cell_type": "code",
   "execution_count": 8,
   "metadata": {},
   "outputs": [
    {
     "name": "stdout",
     "output_type": "stream",
     "text": [
      "(1, 'Jai', 'Manager', '20')\n",
      "(2, 'Neha', 'Clerk', '21')\n",
      "(3, 'karan', 'Analyst', '20')\n",
      "(4, 'Shyam', 'Assistant', '30')\n"
     ]
    }
   ],
   "source": [
    "# Q6. Write a python code to connect MySQL to python. Explain the cursor() and execute() method.\n",
    "import mysql.connector\n",
    "\n",
    "# Establishing the connection\n",
    "connection = mysql.connector.connect(\n",
    "  host=\"localhost\",\n",
    "  user=\"root\",\n",
    "  password=\"jai@31072003\",\n",
    ")\n",
    "\n",
    "# Creating a cursor object\n",
    "cursor = connection.cursor()\n",
    "\n",
    "# Executing SQL queries\n",
    "query = \"SELECT * FROM college_project.emp\"\n",
    "cursor.execute(query)\n",
    "\n",
    "# Fetching and printing the results\n",
    "result = cursor.fetchall()\n",
    "for row in result:\n",
    "    print(row)\n",
    "\n",
    "# Closing the cursor and connection\n",
    "cursor.close()\n",
    "connection.close()\n"
   ]
  },
  {
   "cell_type": "code",
   "execution_count": null,
   "metadata": {},
   "outputs": [],
   "source": [
    "# Q7. Give the order of execution of SQL clauses in an SQL query.\n",
    "# In a typical SQL query, the order of execution of the SQL clauses is as follows:\n",
    "\n",
    "# FROM: The FROM clause is the first clause to be executed. It specifies the table(s) from which the data will be retrieved.\n",
    "\n",
    "# WHERE: The WHERE clause is executed after the FROM clause. It filters the data based on specified conditions and selects only the rows that meet the criteria.\n",
    "\n",
    "# GROUP BY: The GROUP BY clause is executed after the WHERE clause. It groups the selected rows based on specified columns.\n",
    "\n",
    "# HAVING: The HAVING clause is executed after the GROUP BY clause. It filters the grouped data based on specified conditions.\n",
    "\n",
    "# SELECT: The SELECT clause is executed after the HAVING clause. It selects the specific columns to be retrieved from the result set.\n",
    "\n",
    "# DISTINCT: If the DISTINCT keyword is used, it is executed after the SELECT clause. It removes duplicate rows from the result set.\n",
    "\n",
    "# ORDER BY: The ORDER BY clause is executed after the SELECT or DISTINCT clause. It sorts the result set based on specified columns in ascending or descending order.\n",
    "\n",
    "# LIMIT/OFFSET: The LIMIT and OFFSET clauses are executed last, if present. They restrict the number of rows returned from the result set and allow pagination."
   ]
  }
 ],
 "metadata": {
  "kernelspec": {
   "display_name": "Python 3",
   "language": "python",
   "name": "python3"
  },
  "language_info": {
   "codemirror_mode": {
    "name": "ipython",
    "version": 3
   },
   "file_extension": ".py",
   "mimetype": "text/x-python",
   "name": "python",
   "nbconvert_exporter": "python",
   "pygments_lexer": "ipython3",
   "version": "3.11.1"
  },
  "orig_nbformat": 4
 },
 "nbformat": 4,
 "nbformat_minor": 2
}
